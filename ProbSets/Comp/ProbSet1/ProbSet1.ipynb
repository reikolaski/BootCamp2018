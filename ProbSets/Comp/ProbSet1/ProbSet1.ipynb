{
 "cells": [
  {
   "cell_type": "markdown",
   "metadata": {},
   "source": [
    "# Intro to NumPy"
   ]
  },
  {
   "cell_type": "code",
<<<<<<< HEAD
   "execution_count": null,
=======
   "execution_count": 4,
>>>>>>> 3e81012ab754861db0fb7d588b4f9b4c23c4c209
   "metadata": {},
   "outputs": [],
   "source": [
    "import numpy as np"
   ]
  },
  {
   "cell_type": "markdown",
   "metadata": {},
   "source": [
    "## Problem 1"
   ]
  },
  {
   "cell_type": "code",
<<<<<<< HEAD
   "execution_count": null,
=======
   "execution_count": 60,
>>>>>>> 3e81012ab754861db0fb7d588b4f9b4c23c4c209
   "metadata": {},
   "outputs": [],
   "source": [
    "def problem1():\n",
    "    A = np.array( [ [3, -1, 4], [1, 5, -9] ] )\n",
    "    B = np.array( [ [2, 6, -5, 3], [5, -8, 9, 7], [9, -3, -2, -3] ] )\n",
    "    prod = np.dot(A, B)\n",
    "    return prod"
   ]
  },
  {
   "cell_type": "code",
<<<<<<< HEAD
   "execution_count": null,
   "metadata": {},
   "outputs": [],
=======
   "execution_count": 61,
   "metadata": {},
   "outputs": [
    {
     "data": {
      "text/plain": [
       "array([[ 37,  14, -32, -10],\n",
       "       [-54,  -7,  58,  65]])"
      ]
     },
     "execution_count": 61,
     "metadata": {},
     "output_type": "execute_result"
    }
   ],
>>>>>>> 3e81012ab754861db0fb7d588b4f9b4c23c4c209
   "source": [
    "problem1()"
   ]
  },
  {
   "cell_type": "markdown",
   "metadata": {},
   "source": [
    "## Problem 2"
   ]
  },
  {
   "cell_type": "code",
<<<<<<< HEAD
   "execution_count": null,
=======
   "execution_count": 57,
>>>>>>> 3e81012ab754861db0fb7d588b4f9b4c23c4c209
   "metadata": {},
   "outputs": [],
   "source": [
    "def problem2():\n",
    "    A = np.array( [ [3, 1, 4], [1, 5, 9], [-5, 3, 1] ] )\n",
    "    A2 = np.dot(A, A)\n",
    "    A3 = np.dot(A2, A)\n",
    "    matrix = -1 * A3 + 9 * A2 - 15 * A\n",
    "    return matrix"
   ]
  },
  {
   "cell_type": "code",
<<<<<<< HEAD
   "execution_count": null,
   "metadata": {},
   "outputs": [],
=======
   "execution_count": 58,
   "metadata": {},
   "outputs": [
    {
     "data": {
      "text/plain": [
       "array([[0, 0, 0],\n",
       "       [0, 0, 0],\n",
       "       [0, 0, 0]])"
      ]
     },
     "execution_count": 58,
     "metadata": {},
     "output_type": "execute_result"
    }
   ],
>>>>>>> 3e81012ab754861db0fb7d588b4f9b4c23c4c209
   "source": [
    "problem2()"
   ]
  },
  {
   "cell_type": "markdown",
   "metadata": {},
   "source": [
    "## Problem 3"
   ]
  },
  {
   "cell_type": "code",
<<<<<<< HEAD
   "execution_count": null,
=======
   "execution_count": 70,
>>>>>>> 3e81012ab754861db0fb7d588b4f9b4c23c4c209
   "metadata": {},
   "outputs": [],
   "source": [
    "def problem3():\n",
    "    A = np.triu(np.ones((7, 7), dtype=np.int))\n",
    "    B = np.tril(-1 * np.ones((7, 7), dtype=np.int)) + np.triu(5 * np.ones((7, 7), dtype=np.int)) + -5 * np.eye(7, dtype=int)\n",
    "    prod = A @ B @ A\n",
    "    matrix = prod.astype(np.int64)\n",
    "    return matrix"
   ]
  },
  {
   "cell_type": "code",
<<<<<<< HEAD
   "execution_count": null,
   "metadata": {},
   "outputs": [],
=======
   "execution_count": 71,
   "metadata": {},
   "outputs": [
    {
     "data": {
      "text/plain": [
       "array([[ -7,  -8,  -3,   8,  25,  48,  77],\n",
       "       [ -6, -12, -12,  -6,   6,  24,  48],\n",
       "       [ -5, -10, -15, -14,  -7,   6,  25],\n",
       "       [ -4,  -8, -12, -16, -14,  -6,   8],\n",
       "       [ -3,  -6,  -9, -12, -15, -12,  -3],\n",
       "       [ -2,  -4,  -6,  -8, -10, -12,  -8],\n",
       "       [ -1,  -2,  -3,  -4,  -5,  -6,  -7]])"
      ]
     },
     "execution_count": 71,
     "metadata": {},
     "output_type": "execute_result"
    }
   ],
>>>>>>> 3e81012ab754861db0fb7d588b4f9b4c23c4c209
   "source": [
    "problem3()"
   ]
  },
  {
   "cell_type": "markdown",
   "metadata": {},
   "source": [
    "## Problem 4"
   ]
  },
  {
   "cell_type": "code",
<<<<<<< HEAD
   "execution_count": null,
=======
   "execution_count": 131,
>>>>>>> 3e81012ab754861db0fb7d588b4f9b4c23c4c209
   "metadata": {},
   "outputs": [],
   "source": [
    "def problem4(x):\n",
    "    xcop = np.copy(x)\n",
    "    xcop[xcop < 0] = 0\n",
    "    return xcop"
   ]
  },
  {
   "cell_type": "code",
<<<<<<< HEAD
   "execution_count": null,
   "metadata": {},
   "outputs": [],
=======
   "execution_count": 181,
   "metadata": {},
   "outputs": [
    {
     "data": {
      "text/plain": [
       "array([[0, 0, 4]])"
      ]
     },
     "execution_count": 181,
     "metadata": {},
     "output_type": "execute_result"
    }
   ],
>>>>>>> 3e81012ab754861db0fb7d588b4f9b4c23c4c209
   "source": [
    "x = np.array( [ [-1, -3, 4] ] )\n",
    "problem4(x)"
   ]
  },
  {
   "cell_type": "markdown",
   "metadata": {},
   "source": [
    "## Problem 5"
   ]
  },
  {
   "cell_type": "code",
<<<<<<< HEAD
   "execution_count": null,
=======
   "execution_count": 216,
>>>>>>> 3e81012ab754861db0fb7d588b4f9b4c23c4c209
   "metadata": {},
   "outputs": [],
   "source": [
    "def problem5():\n",
    "    A = np.arange(6).reshape((3,2)).T\n",
    "    B = np.tril(3 * np.ones((3,3), dtype=np.int))\n",
    "    C = -2 * np.eye(3, dtype=np.int)\n",
    "    first = np.hstack((np.zeros(9).reshape(3,3), A.T, np.eye(3, dtype=np.int)))\n",
    "    second = np.hstack((A, np.zeros(4).reshape(2,2), np.zeros(6).reshape(2,3)))\n",
    "    third = np.hstack((B, np.zeros(6).reshape(3,2), C))\n",
    "    matrix = np.vstack((first, second, third))\n",
    "    matrix = matrix.astype(np.int)\n",
    "    return matrix"
   ]
  },
  {
   "cell_type": "code",
<<<<<<< HEAD
   "execution_count": null,
   "metadata": {
    "scrolled": true
   },
   "outputs": [],
=======
   "execution_count": 217,
   "metadata": {
    "scrolled": true
   },
   "outputs": [
    {
     "data": {
      "text/plain": [
       "array([[ 0,  0,  0,  0,  1,  1,  0,  0],\n",
       "       [ 0,  0,  0,  2,  3,  0,  1,  0],\n",
       "       [ 0,  0,  0,  4,  5,  0,  0,  1],\n",
       "       [ 0,  2,  4,  0,  0,  0,  0,  0],\n",
       "       [ 1,  3,  5,  0,  0,  0,  0,  0],\n",
       "       [ 3,  0,  0,  0,  0, -2,  0,  0],\n",
       "       [ 3,  3,  0,  0,  0,  0, -2,  0],\n",
       "       [ 3,  3,  3,  0,  0,  0,  0, -2]])"
      ]
     },
     "execution_count": 217,
     "metadata": {},
     "output_type": "execute_result"
    }
   ],
>>>>>>> 3e81012ab754861db0fb7d588b4f9b4c23c4c209
   "source": [
    "problem5()"
   ]
  },
  {
   "cell_type": "markdown",
   "metadata": {},
   "source": [
    "## Problem 6"
   ]
  },
  {
   "cell_type": "code",
<<<<<<< HEAD
   "execution_count": null,
   "metadata": {},
   "outputs": [],
   "source": [
    "def problem6(A):\n",
    "    row_sum = A.sum(axis=1)\n",
    "    ans = A.T / row_sum\n",
    "    return ans.T"
=======
   "execution_count": 178,
   "metadata": {},
   "outputs": [],
   "source": [
    "def problem6(x):\n",
    "    sum = x.sum(axis=1).reshape(3,1)\n",
    "    ans = x / sum\n",
    "    return ans"
>>>>>>> 3e81012ab754861db0fb7d588b4f9b4c23c4c209
   ]
  },
  {
   "cell_type": "code",
<<<<<<< HEAD
   "execution_count": null,
   "metadata": {
    "scrolled": true
   },
   "outputs": [],
   "source": [
    "A = np.arange(6).reshape((2,3))\n",
    "problem6(A)"
=======
   "execution_count": 187,
   "metadata": {
    "scrolled": true
   },
   "outputs": [
    {
     "data": {
      "text/plain": [
       "array([[0.        , 0.33333333, 0.66666667],\n",
       "       [0.25      , 0.33333333, 0.41666667],\n",
       "       [0.28571429, 0.33333333, 0.38095238]])"
      ]
     },
     "execution_count": 187,
     "metadata": {},
     "output_type": "execute_result"
    }
   ],
   "source": [
    "x = np.arange(9).reshape((3,3))\n",
    "problem6(x)"
>>>>>>> 3e81012ab754861db0fb7d588b4f9b4c23c4c209
   ]
  },
  {
   "cell_type": "markdown",
   "metadata": {},
   "source": [
    "## Problem 7"
   ]
  },
  {
   "cell_type": "code",
<<<<<<< HEAD
   "execution_count": null,
=======
   "execution_count": 218,
>>>>>>> 3e81012ab754861db0fb7d588b4f9b4c23c4c209
   "metadata": {},
   "outputs": [],
   "source": [
    "def problem7():\n",
    "    grid = np.load(\"grid.npy\")\n",
    "    hori = np.max(grid[:,:-3] * grid[:,1:-2] * grid[:,2:-1] * grid[:,3:])\n",
    "    vert = np.max(grid[:-3,:] * grid[1:-2,:] * grid[2:-1,:] * grid[3:,:])\n",
    "    rdiag = np.max(grid[:-3,:-3] * grid[1:-2,1:-2] * grid[2:-1,2:-1] * grid[3:,3:])\n",
    "    ldiag = np.max(grid[:-3,3:] * grid[1:-2,2:-1] * grid[2:-1,1:-2] * grid[3:,:-3])\n",
    "    answer = np.max( [hori, vert, rdiag, ldiag ] )\n",
    "    return answer"
   ]
  },
  {
   "cell_type": "code",
<<<<<<< HEAD
   "execution_count": null,
   "metadata": {},
   "outputs": [],
=======
   "execution_count": 220,
   "metadata": {},
   "outputs": [
    {
     "data": {
      "text/plain": [
       "70600674"
      ]
     },
     "execution_count": 220,
     "metadata": {},
     "output_type": "execute_result"
    }
   ],
>>>>>>> 3e81012ab754861db0fb7d588b4f9b4c23c4c209
   "source": [
    "problem7()"
   ]
  },
  {
   "cell_type": "markdown",
   "metadata": {},
   "source": [
    "# Standard Library"
   ]
  },
  {
<<<<<<< HEAD
   "cell_type": "markdown",
   "metadata": {},
   "source": [
    "## Problem 1"
   ]
  },
  {
   "cell_type": "code",
   "execution_count": null,
=======
   "cell_type": "code",
   "execution_count": 221,
>>>>>>> 3e81012ab754861db0fb7d588b4f9b4c23c4c209
   "metadata": {},
   "outputs": [],
   "source": [
    "def problem1(L):\n",
    "    return (min(L), max(L), sum(L) / len(L))"
   ]
  },
  {
   "cell_type": "code",
<<<<<<< HEAD
   "execution_count": null,
   "metadata": {},
   "outputs": [],
=======
   "execution_count": 223,
   "metadata": {},
   "outputs": [
    {
     "data": {
      "text/plain": [
       "(1, 4, 2.5)"
      ]
     },
     "execution_count": 223,
     "metadata": {},
     "output_type": "execute_result"
    }
   ],
>>>>>>> 3e81012ab754861db0fb7d588b4f9b4c23c4c209
   "source": [
    "L = [1, 2, 3, 4]\n",
    "problem1(L)"
   ]
  },
  {
   "cell_type": "markdown",
   "metadata": {},
   "source": [
    "## Problem 2"
   ]
  },
  {
   "cell_type": "code",
<<<<<<< HEAD
   "execution_count": null,
   "metadata": {},
   "outputs": [],
=======
   "execution_count": 230,
   "metadata": {},
   "outputs": [
    {
     "data": {
      "text/plain": [
       "False"
      ]
     },
     "execution_count": 230,
     "metadata": {},
     "output_type": "execute_result"
    }
   ],
>>>>>>> 3e81012ab754861db0fb7d588b4f9b4c23c4c209
   "source": [
    "int_1 = 3\n",
    "int_2 = int_1\n",
    "int_2 += 1\n",
    "int_1 == int_2"
   ]
  },
  {
   "cell_type": "code",
<<<<<<< HEAD
   "execution_count": null,
   "metadata": {},
   "outputs": [],
=======
   "execution_count": 233,
   "metadata": {},
   "outputs": [
    {
     "data": {
      "text/plain": [
       "False"
      ]
     },
     "execution_count": 233,
     "metadata": {},
     "output_type": "execute_result"
    }
   ],
>>>>>>> 3e81012ab754861db0fb7d588b4f9b4c23c4c209
   "source": [
    "str_1 = \"hello\"\n",
    "str_2 = str_1\n",
    "str_2 = str_2 + \" world\"\n",
    "str_1 == str_2"
   ]
  },
  {
   "cell_type": "code",
<<<<<<< HEAD
   "execution_count": null,
   "metadata": {},
   "outputs": [],
=======
   "execution_count": 234,
   "metadata": {},
   "outputs": [
    {
     "data": {
      "text/plain": [
       "True"
      ]
     },
     "execution_count": 234,
     "metadata": {},
     "output_type": "execute_result"
    }
   ],
>>>>>>> 3e81012ab754861db0fb7d588b4f9b4c23c4c209
   "source": [
    "list_1 = [1, \"hi\", 3]\n",
    "list_2 = list_1\n",
    "list_2[0] = 17\n",
    "list_1 == list_2"
   ]
  },
  {
   "cell_type": "code",
<<<<<<< HEAD
   "execution_count": null,
   "metadata": {},
   "outputs": [],
=======
   "execution_count": 237,
   "metadata": {},
   "outputs": [
    {
     "data": {
      "text/plain": [
       "False"
      ]
     },
     "execution_count": 237,
     "metadata": {},
     "output_type": "execute_result"
    }
   ],
>>>>>>> 3e81012ab754861db0fb7d588b4f9b4c23c4c209
   "source": [
    "tuple_1 = (4, 8)\n",
    "tuple_2 = tuple_1\n",
    "tuple_2 += (1,4)\n",
    "tuple_1 == tuple_2"
   ]
  },
  {
   "cell_type": "code",
<<<<<<< HEAD
   "execution_count": null,
   "metadata": {},
   "outputs": [],
=======
   "execution_count": 238,
   "metadata": {},
   "outputs": [
    {
     "data": {
      "text/plain": [
       "True"
      ]
     },
     "execution_count": 238,
     "metadata": {},
     "output_type": "execute_result"
    }
   ],
>>>>>>> 3e81012ab754861db0fb7d588b4f9b4c23c4c209
   "source": [
    "set_1 = {\"hi\", \"hello\", 3}\n",
    "set_2 = set_1\n",
    "set_1.add(17)\n",
    "set_1 == set_2"
   ]
  },
  {
   "cell_type": "code",
<<<<<<< HEAD
   "execution_count": null,
   "metadata": {},
   "outputs": [],
   "source": [
    "print(\"The following data types are mutable: list, set.\\nThe following data types are immutable: int, str, tuple.\")"
=======
   "execution_count": 240,
   "metadata": {},
   "outputs": [
    {
     "name": "stdout",
     "output_type": "stream",
     "text": [
      "The following data types are mutable: list, set. The following data types are immutable: int, str, tuple.\n"
     ]
    }
   ],
   "source": [
    "print(\"The following data types are mutable: list, set. The following data types are immutable: int, str, tuple.\")"
>>>>>>> 3e81012ab754861db0fb7d588b4f9b4c23c4c209
   ]
  },
  {
   "cell_type": "markdown",
   "metadata": {},
   "source": [
    "## Problem 3"
   ]
  },
  {
   "cell_type": "code",
<<<<<<< HEAD
   "execution_count": null,
=======
   "execution_count": 1,
>>>>>>> 3e81012ab754861db0fb7d588b4f9b4c23c4c209
   "metadata": {},
   "outputs": [],
   "source": [
    "import calculator as calc"
   ]
  },
  {
   "cell_type": "code",
<<<<<<< HEAD
   "execution_count": null,
=======
   "execution_count": 8,
>>>>>>> 3e81012ab754861db0fb7d588b4f9b4c23c4c209
   "metadata": {},
   "outputs": [],
   "source": [
    "def problem3(len1, len2):\n",
    "    return calc.sqrt(calc.sum(calc.prod(len1, len1), calc.prod(len2, len2)))"
   ]
  },
  {
   "cell_type": "code",
<<<<<<< HEAD
   "execution_count": null,
   "metadata": {},
   "outputs": [],
=======
   "execution_count": 9,
   "metadata": {},
   "outputs": [
    {
     "data": {
      "text/plain": [
       "5.0"
      ]
     },
     "execution_count": 9,
     "metadata": {},
     "output_type": "execute_result"
    }
   ],
>>>>>>> 3e81012ab754861db0fb7d588b4f9b4c23c4c209
   "source": [
    "problem3(3, 4)"
   ]
  },
  {
   "cell_type": "markdown",
   "metadata": {},
   "source": [
    "## Problem 4"
   ]
  },
  {
   "cell_type": "code",
<<<<<<< HEAD
   "execution_count": null,
=======
   "execution_count": 3,
>>>>>>> 3e81012ab754861db0fb7d588b4f9b4c23c4c209
   "metadata": {},
   "outputs": [],
   "source": [
    "from itertools import combinations"
   ]
  },
  {
   "cell_type": "code",
<<<<<<< HEAD
   "execution_count": null,
=======
   "execution_count": 33,
>>>>>>> 3e81012ab754861db0fb7d588b4f9b4c23c4c209
   "metadata": {},
   "outputs": [],
   "source": [
    "def problem4(A):\n",
    "    ans = []\n",
    "    for i in range(len(A) + 1):\n",
    "        for combo in list(combinations(A, i)):\n",
    "            ans.append(set(combo))\n",
    "    return ans"
   ]
  },
  {
   "cell_type": "code",
<<<<<<< HEAD
   "execution_count": null,
   "metadata": {},
   "outputs": [],
=======
   "execution_count": 35,
   "metadata": {},
   "outputs": [
    {
     "data": {
      "text/plain": [
       "[set(),\n",
       " {'b'},\n",
       " {'a'},\n",
       " {'c'},\n",
       " {'a', 'b'},\n",
       " {'b', 'c'},\n",
       " {'a', 'c'},\n",
       " {'a', 'b', 'c'}]"
      ]
     },
     "execution_count": 35,
     "metadata": {},
     "output_type": "execute_result"
    }
   ],
>>>>>>> 3e81012ab754861db0fb7d588b4f9b4c23c4c209
   "source": [
    "A = {\"a\", \"b\", \"c\"}\n",
    "problem4(A)"
   ]
  },
  {
   "cell_type": "markdown",
   "metadata": {},
   "source": [
<<<<<<< HEAD
    "# Object Oriented Programming"
   ]
  },
  {
   "cell_type": "markdown",
   "metadata": {},
   "source": [
    "## Problem 1"
   ]
  },
  {
   "cell_type": "code",
   "execution_count": null,
   "metadata": {},
   "outputs": [],
   "source": [
    "class Backpack:\n",
    "    \"\"\"A Backpack object class. Has a name, a list of contents, color, and capacity.\n",
    "    Attributes:\n",
    "        name (str): the name of the backpack's owner.\n",
    "        contents (list): the contents of the backpack.\n",
    "        color (str): the color of the backpack.\n",
    "        max_size (int): the capacity of the backpack.\n",
    "    \"\"\"\n",
    "    def __init__(self, name, color, max_size=5):           # This function is the constructor.\n",
    "        \"\"\"Set the name, color, and max_size and initialize an empty list of contents.\n",
    "        A backpack holds 5 items by default\n",
    "        Parameters:\n",
    "            name (str): the name of the backpack's owner.\n",
    "            color (str): the color of the backpack.\n",
    "            max_size (int): the capacity of the backpack.\n",
    "        \"\"\"\n",
    "        self.name = name                # Initialize some attributes.\n",
    "        self.contents = []\n",
    "        self.color = color\n",
    "        self.max_size = max_size\n",
    "\n",
    "    def put(self, item):\n",
    "        \"\"\"Add 'item' to the backpack's list of contents if room.\"\"\"\n",
    "        if len(self.contents) >= self.max_size:\n",
    "            print(\"No Room!\")\n",
    "        else:\n",
    "            self.contents.append(item)  # Use 'self.contents', not just 'contents'.\n",
    "\n",
    "    def take(self, item):\n",
    "        \"\"\"Remove 'item' from the backpack's list of contents.\"\"\"\n",
    "        self.contents.remove(item)\n",
    "\n",
    "    def dump(self):\n",
    "        \"\"\"Reset the contents of the backpack.\"\"\"\n",
    "        self.contents = []"
   ]
  },
  {
   "cell_type": "code",
   "execution_count": null,
   "metadata": {},
   "outputs": [],
   "source": [
    "def test_backpack():\n",
    "    testpack = Backpack(\"Barry\", \"black\", 3)       # Instantiate the object.\n",
    "    if testpack.name != \"Barry\":                # Test an attribute.\n",
    "        print(\"Backpack.name assigned incorrectly\")\n",
    "    for item in [\"pencil\", \"pen\", \"paper\", \"computer\"]:\n",
    "        testpack.put(item)                      # Test a method.\n",
    "    testpack.take(\"pen\")\n",
    "    testpack.dump()\n",
    "    print(\"Contents:\", testpack.contents)"
   ]
  },
  {
   "cell_type": "code",
   "execution_count": null,
   "metadata": {},
   "outputs": [],
   "source": [
    "test_backpack()"
   ]
  },
  {
   "cell_type": "markdown",
   "metadata": {},
   "source": [
    "## Problem 2"
   ]
  },
  {
   "cell_type": "code",
   "execution_count": null,
   "metadata": {},
   "outputs": [],
   "source": [
    "class Jetpack(Backpack):\n",
    "    \"\"\"A Jetpack object class. Inherits from the Backpack class.\n",
    "    A jetpack is smaller than a backpack, has fuel, and can fly.\n",
    "    \n",
    "    Attributes:\n",
    "        name (str): the name of the jetpack's owner.\n",
    "        color (str): the color of the jetpack.\n",
    "        max_size (int): the maximum number of items that can fit inside.\n",
    "        contents (list): the contents of the jetpack.\n",
    "        fuel (int): the amount of fuel the jetpack has.\n",
    "    \"\"\"\n",
    "    def __init__(self, name, color, max_size=2, fuel=10):\n",
    "        \"\"\"Use the Backpack constructor to initialize the name, color,\n",
    "        and max_size attributes. A jetpack only holds 2 item and 10 units\n",
    "        of fuel by default.\n",
    "        Parameters:\n",
    "            name (str): the name of the knapsack's owner.\n",
    "            color (str): the color of the knapsack.\n",
    "            max_size (int): the maximum number of items that can fit inside.\n",
    "            fuel (int): the amount of fuel the jetpack has.\n",
    "        \"\"\"\n",
    "        Backpack.__init__(self, name, color, max_size)\n",
    "        self.fuel = fuel\n",
    "        \n",
    "    def fly(self, fuel_to_burn):\n",
    "        \"\"\"Fly if the jetpack has enough fuel.\"\"\"\n",
    "        if fuel_to_burn > self.fuel:\n",
    "            print(\"Not enough fuel!\")\n",
    "        else:\n",
    "            self.fuel -= fuel_to_burn\n",
    "            \n",
    "    def dump(self):    # Override the dump() method.\n",
    "        \"\"\"If the jetpack is dumped, empty the contents and fuel\"\"\"\n",
    "        self.contents = []\n",
    "        self.fuel = 0"
   ]
  },
  {
   "cell_type": "code",
   "execution_count": null,
   "metadata": {},
   "outputs": [],
   "source": [
    "def test_jetpack():\n",
    "    testpack = Jetpack(\"Barry\", \"black\")        # Instantiate the object.\n",
    "    testpack.fly(50)\n",
    "    testpack.fly(6)\n",
    "    testpack.dump()\n",
    "    print(\"Contents:\", testpack.contents)"
   ]
  },
  {
   "cell_type": "code",
   "execution_count": null,
   "metadata": {},
   "outputs": [],
   "source": [
    "test_jetpack()"
   ]
  },
  {
   "cell_type": "markdown",
   "metadata": {},
   "source": [
    "## Problem 3"
   ]
  },
  {
   "cell_type": "code",
   "execution_count": null,
   "metadata": {},
   "outputs": [],
   "source": [
    "class Backpack:\n",
    "    \"\"\"A Backpack object class. Has a name, a list of contents, color, and capacity.\n",
    "    Attributes:\n",
    "        name (str): the name of the backpack's owner.\n",
    "        contents (list): the contents of the backpack.\n",
    "        color (str): the color of the backpack.\n",
    "        max_size (int): the capacity of the backpack.\n",
    "    \"\"\"\n",
    "    def __init__(self, name, color, max_size=5):           # This function is the constructor.\n",
    "        \"\"\"Set the name, color, and max_size and initialize an empty list of contents.\n",
    "        A backpack holds 5 items by default\n",
    "        Parameters:\n",
    "            name (str): the name of the backpack's owner.\n",
    "            color (str): the color of the backpack.\n",
    "            max_size (int): the capacity of the backpack.\n",
    "        \"\"\"\n",
    "        self.name = name                # Initialize some attributes.\n",
    "        self.contents = []\n",
    "        self.color = color\n",
    "        self.max_size = max_size\n",
    "\n",
    "    def put(self, item):\n",
    "        \"\"\"Add 'item' to the backpack's list of contents if room.\"\"\"\n",
    "        if len(self.contents) >= self.max_size:\n",
    "            print(\"No Room!\")\n",
    "        else:\n",
    "            self.contents.append(item)  # Use 'self.contents', not just 'contents'.\n",
    "\n",
    "    def take(self, item):\n",
    "        \"\"\"Remove 'item' from the backpack's list of contents.\"\"\"\n",
    "        self.contents.remove(item)\n",
    "\n",
    "    def dump(self):\n",
    "        \"\"\"Reset the contents of the backpack.\"\"\"\n",
    "        self.contents = []\n",
    "        \n",
    "    def __add__(self, other):\n",
    "        \"\"\"Add the number of contents of each Backpack.\"\"\"\n",
    "        return len(self.contents) + len(other.contents)\n",
    "    \n",
    "    def __lt__(self, other):\n",
    "        \"\"\"If 'self' has fewer contents than 'other', return True.\n",
    "        Otherwise, return False.\n",
    "        \"\"\"\n",
    "        return len(self.contents) < len(other.contents)\n",
    "    \n",
    "    def __eq__(self, other):\n",
    "        \"\"\"If 'self' has the same name, color, and number of contents as 'other', return True.\n",
    "        Otherwise, return False.\n",
    "        \"\"\"\n",
    "        return self.name == other.name and self.color == other.color and len(self.contents) == len(other.contents)\n",
    "        \n",
    "    def __str__(self):\n",
    "        return f'''\n",
    "        Owner: \\t\\t {self.name}\\n\n",
    "        Color: \\t\\t {self.color}\\n\n",
    "        Size: \\t\\t {len(self.contents)}\\n\n",
    "        Max Size: \\t {self.max_size}\\n\n",
    "        Contents: \\t {self.contents}\\n'''"
=======
    "# Unit Testing"
>>>>>>> 3e81012ab754861db0fb7d588b4f9b4c23c4c209
   ]
  },
  {
   "cell_type": "code",
<<<<<<< HEAD
   "execution_count": null,
   "metadata": {},
   "outputs": [],
   "source": [
    "def test_backpack2():\n",
    "    testpack = Backpack(\"Barry\", \"black\", 3)       # Instantiate the object.\n",
    "    testpack.put(\"pencil\")\n",
    "    testpack2 = Backpack(\"Barry\", \"black\", 3)\n",
    "    testpack2.put(\"pen\")\n",
    "    testpack3 = Backpack(\"Tom\", \"black\")\n",
    "    print(testpack == testpack2)\n",
    "    print(testpack == testpack3)\n",
    "    print(testpack)"
=======
   "execution_count": 3,
   "metadata": {},
   "outputs": [],
   "source": [
    "def smallest_factor(n):\n",
    "    \"\"\"Return the smallest prime factor of the positive integer n.\"\"\"\n",
    "    if n == 1: return 1\n",
    "    for i in range(2, int(n**.5)):\n",
    "        if n % i == 0: return i\n",
    "    return n"
>>>>>>> 3e81012ab754861db0fb7d588b4f9b4c23c4c209
   ]
  },
  {
   "cell_type": "code",
   "execution_count": null,
   "metadata": {},
   "outputs": [],
   "source": [
<<<<<<< HEAD
    "test_backpack2()"
   ]
  },
  {
   "cell_type": "markdown",
   "metadata": {},
   "source": [
    "## Problem 4"
   ]
  },
  {
   "cell_type": "code",
   "execution_count": null,
   "metadata": {},
   "outputs": [],
   "source": [
    "class ComplexNumber():\n",
    "    \n",
    "    def __init__(self, real, imag):\n",
    "        self.real = real\n",
    "        self.imag = imag\n",
    "            \n",
    "    def conjugate(self):\n",
    "        return ComplexNumber(self.real, -self.imag)\n",
    "    \n",
    "    def __str__(self):\n",
    "        if self.imag >= 0:\n",
    "            return f\"({self.real}+{self.imag}j)\"\n",
    "        else:\n",
    "            return f\"({self.real}-{abs(self.imag)}j)\"\n",
    "        \n",
    "    def __abs__(self):\n",
    "        return (self.real**2 + self.imag**2)**.5\n",
    "    \n",
    "    def __eq__(self, other):\n",
    "        return self.real == other.real and self.imag == other.imag\n",
    "    \n",
    "    def __add__(self, other):\n",
    "        return ComplexNumber(self.real + other.real, self.imag + other.imag)\n",
    "    \n",
    "    def __sub__(self, other):\n",
    "        return ComplexNumber(self.real - other.real, self.imag - other.imag)\n",
    "    \n",
    "    def __mul__(self, other):\n",
    "        return ComplexNumber(self.real * other.real - self.imag * other.imag, \n",
    "                             self.imag * other.real + self.real * other.imag)\n",
    "    \n",
    "    def __truediv__(self, other):\n",
    "        if other.real == 0 and other.imag == 0:\n",
    "            raise ValueError(\"denominator cannot be zero\")\n",
    "        denom = (other * other.conjugate()).real\n",
    "        real = (self.real * other.real + self.imag * other.imag) / denom\n",
    "        imag = (self.imag * other.real - self.real * other.imag) / denom\n",
    "        return ComplexNumber(real, imag)"
   ]
  },
  {
   "cell_type": "code",
   "execution_count": null,
   "metadata": {},
   "outputs": [],
   "source": [
    "def test_ComplexNumber(a, b):\n",
    "    py_cnum, my_cnum = complex(a, b), ComplexNumber(a, b)\n",
    "    # Validate the constructor.\n",
    "    if my_cnum.real != a or my_cnum.imag != b:\n",
    "        print(\"__init__() set self.real and self.imag incorrectly\")\n",
    "    # Validate conjugate() by checking the new number's imag attribute.\n",
    "    if py_cnum.conjugate().imag != my_cnum.conjugate().imag:\n",
    "        print(\"conjugate() failed for\", py_cnum)\n",
    "    # Validate __str__().\n",
    "    if str(py_cnum) != str(my_cnum):\n",
    "        print(\"__str__() failed for\", py_cnum)"
   ]
  },
  {
   "cell_type": "markdown",
   "metadata": {},
   "source": [
    "# Exceptions and File IO"
   ]
  },
  {
   "cell_type": "markdown",
   "metadata": {},
   "source": [
    "## Problems 3 and 4"
   ]
  },
  {
   "cell_type": "code",
   "execution_count": null,
   "metadata": {},
   "outputs": [],
   "source": [
    "class ContentFilter():\n",
    "\n",
    "    def __init__(self, filename):\n",
    "        self.filename = filename\n",
    "        self.contents = None\n",
    "        while self.contents is None:\n",
    "            try:\n",
    "                with open(self.filename, 'r') as file:\n",
    "                    contents = file.readlines()\n",
    "                self.contents = ''.join(contents)\n",
    "            except:\n",
    "                self.filename = input(\"Please enter a valid file name: \")"
   ]
  },
  {
   "cell_type": "code",
   "execution_count": null,
   "metadata": {},
   "outputs": [],
   "source": [
    "cf1 = ContentFilter(\"hello_world.txt\")"
   ]
  },
  {
   "cell_type": "code",
   "execution_count": null,
   "metadata": {},
   "outputs": [],
   "source": [
    "cf1.contents"
   ]
  },
  {
   "cell_type": "code",
   "execution_count": 201,
   "metadata": {},
   "outputs": [],
   "source": [
    "class ContentFilter():\n",
    "\n",
    "    def __init__(self, filename):\n",
    "        self.filename = filename\n",
    "        self.contents = None\n",
    "        while self.contents is None:\n",
    "            try:\n",
    "                with open(self.filename, 'r') as file:\n",
    "                    contents = file.readlines()\n",
    "                self.contents = ''.join(contents)\n",
    "            except:\n",
    "                self.filename = input(\"Please enter a valid file name: \")\n",
    "                \n",
    "    def uniform(self, file, mode='w', case=\"upper\"):\n",
    "        if mode not in ['w', 'x', 'a']:\n",
    "            raise ValueError(\"Mode must be 'w', 'x', or 'a'\")\n",
    "        else:\n",
    "            with open(file, mode) as f:\n",
    "                if case == \"upper\":\n",
    "                    f.write(self.contents.upper())\n",
    "                elif case == \"lower\":\n",
    "                    f.write(self.contents.lower())\n",
    "                else:\n",
    "                    raise ValueError(\"Case must be either upper or lower\")\n",
    "                    \n",
    "    def reverse(self, file, mode='w', unit='line'):\n",
    "        if mode not in ['w', 'x', 'a']:\n",
    "            raise ValueError(\"Mode must be 'w', 'x', or 'a'\")\n",
    "        else:\n",
    "            with open(file, mode) as f:\n",
    "                if unit == \"line\":\n",
    "                    lines = self.contents.split('\\n')\n",
    "                    lines.reverse()\n",
    "                    f.write('\\n'.join(lines))\n",
    "                elif unit == \"word\":\n",
    "                    lines = self.contents.split('\\n')\n",
    "                    for i, line in enumerate(lines):\n",
    "                        words = line.split()\n",
    "                        words.reverse()\n",
    "                        lines[i] = ' '.join(words)\n",
    "                    f.write('\\n'.join(lines))\n",
    "                else:\n",
    "                    raise ValueError(\"Unit must be either line or word\")\n",
    "                    \n",
    "    def transpose(self, file, mode='w'):\n",
    "        if mode not in ['w', 'x', 'a']:\n",
    "            raise ValueError(\"Mode must be 'w', 'x', or 'a'\")\n",
    "        else:\n",
    "            with open(file, mode) as f:\n",
    "                lines = self.contents.split('\\n')\n",
    "                matrix = []\n",
    "                for line in lines:\n",
    "                    words = line.split()\n",
    "                    matrix.append(words)\n",
    "                transpose = [list(i) for i in zip(*matrix)]\n",
    "                for i, line in enumerate(transpose):\n",
    "                    transpose[i] = ' '.join(line)\n",
    "                f.write('\\n'.join(transpose))\n",
    "    \n",
    "    def __str__(self):\n",
    "        lines = self.contents.split('\\n')\n",
    "        return f'''\n",
    "        Source file: \\t\\t {self.filename}\n",
    "        Total characters: \\t {len(self.contents)}\n",
    "        Alphabetic characters: \\t {sum([s.isalpha() for s in self.contents])}\n",
    "        Numerical characters: \\t {sum([s.isdigit() for s in self.contents])}\n",
    "        Whitespace characters: \\t {sum([s.isspace() for s in self.contents])}\n",
    "        Number of lines: \\t {len(lines)}\n",
    "        '''\n",
    "            "
=======
    "def test_smallest_factor():\n",
    "    "
>>>>>>> 3e81012ab754861db0fb7d588b4f9b4c23c4c209
   ]
  }
 ],
 "metadata": {
  "kernelspec": {
   "display_name": "Python 3",
   "language": "python",
   "name": "python3"
  },
  "language_info": {
   "codemirror_mode": {
    "name": "ipython",
    "version": 3
   },
   "file_extension": ".py",
   "mimetype": "text/x-python",
   "name": "python",
   "nbconvert_exporter": "python",
   "pygments_lexer": "ipython3",
   "version": "3.6.4"
  }
 },
 "nbformat": 4,
 "nbformat_minor": 2
}
