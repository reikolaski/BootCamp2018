{
 "cells": [
  {
   "cell_type": "markdown",
   "metadata": {},
   "source": [
    "# QR Decomposition"
   ]
  },
  {
   "cell_type": "code",
   "execution_count": null,
   "metadata": {},
   "outputs": [],
   "source": [
    "import numpy as np\n",
    "from scipy import linalg as la"
   ]
  },
  {
   "cell_type": "markdown",
   "metadata": {},
   "source": [
    "#### Problem 1"
   ]
  },
  {
   "cell_type": "code",
   "execution_count": null,
   "metadata": {},
   "outputs": [],
   "source": [
    "def QR_decomposition(A):\n",
    "    m, n = A.shape\n",
    "    Q = np.copy(A)\n",
    "    R = np.zeros((n, n))\n",
    "    for i in range(n):\n",
    "        R[i, i] = la.norm(Q[:, i])\n",
    "        Q[:, i] = Q[:, i] / R[i, i]\n",
    "        for j in range(i + 1, n):\n",
    "            R[i, j] = Q[:, j].T @ Q[:, i]\n",
    "            Q[:, j] = Q[:, j] - R[i, j] * Q[:, i]\n",
    "    return Q, R"
   ]
  },
  {
   "cell_type": "code",
   "execution_count": null,
   "metadata": {},
   "outputs": [],
   "source": [
    "A = np.random.random((6, 4))\n",
    "Q, R = la.qr(A, mode='economic')\n",
    "print(A.shape, Q.shape, Q.T.shape, R.shape)"
   ]
  },
  {
   "cell_type": "code",
   "execution_count": null,
   "metadata": {},
   "outputs": [],
   "source": [
    "np.allclose(np.triu(R), R)"
   ]
  },
  {
   "cell_type": "code",
   "execution_count": null,
   "metadata": {},
   "outputs": [],
   "source": [
    "np.allclose(Q.T @ Q, np.identity(4))"
   ]
  },
  {
   "cell_type": "code",
   "execution_count": null,
   "metadata": {},
   "outputs": [],
   "source": [
    "np.allclose(Q @ R, A)"
   ]
  },
  {
   "cell_type": "code",
   "execution_count": null,
   "metadata": {},
   "outputs": [],
   "source": [
    "Q, R = QR_decomposition(A)"
   ]
  },
  {
   "cell_type": "code",
   "execution_count": null,
   "metadata": {},
   "outputs": [],
   "source": [
    "np.allclose(np.triu(R), R)"
   ]
  },
  {
   "cell_type": "code",
   "execution_count": null,
   "metadata": {},
   "outputs": [],
   "source": [
    "np.allclose(Q.T @ Q, np.identity(4))"
   ]
  },
  {
   "cell_type": "code",
   "execution_count": null,
   "metadata": {},
   "outputs": [],
   "source": [
    "np.allclose(Q @ R, A)"
   ]
  },
  {
   "cell_type": "markdown",
   "metadata": {},
   "source": [
    "#### Problem 2"
   ]
  },
  {
   "cell_type": "code",
   "execution_count": null,
   "metadata": {},
   "outputs": [],
   "source": [
    "def det(A):\n",
    "    return np.abs(np.prod(np.diag(QR_decomposition(A)[1])))"
   ]
  },
  {
   "cell_type": "code",
   "execution_count": null,
   "metadata": {},
   "outputs": [],
   "source": [
    "det(A)"
   ]
  },
  {
   "cell_type": "code",
   "execution_count": null,
   "metadata": {},
   "outputs": [],
   "source": [
    "la.det(A)"
   ]
  },
  {
   "cell_type": "markdown",
   "metadata": {},
   "source": [
    "#### Problem 3"
   ]
  },
  {
   "cell_type": "code",
   "execution_count": null,
   "metadata": {},
   "outputs": [],
   "source": [
    "def solve(A, b):\n",
    "    n = len(A)\n",
    "    Q, R = QR_decomposition(A)\n",
    "    print(Q)\n",
    "    y = Q.T @ b\n",
    "    print(y)\n",
    "    x = np.empty_like(y)\n",
    "    for i in range(n - 1, -1, -1):\n",
    "        sub = 0\n",
    "        for j in range(i+1, n):\n",
    "            sub += R[i, j] * x[j]\n",
    "        x[i] = (y[i] - sub) / R[i, i]\n",
    "    return x"
   ]
  },
  {
   "cell_type": "code",
   "execution_count": null,
   "metadata": {},
   "outputs": [],
   "source": [
    "A = np.random.random((3, 3))\n",
    "b = np.random.random(3)\n",
    "solve(A, b)"
   ]
  },
  {
   "cell_type": "code",
   "execution_count": null,
   "metadata": {},
   "outputs": [],
   "source": [
    "la.solve(A, b)"
   ]
  },
  {
   "cell_type": "markdown",
   "metadata": {},
   "source": [
    "#### Problem 4"
   ]
  },
  {
   "cell_type": "code",
   "execution_count": null,
   "metadata": {},
   "outputs": [],
   "source": [
    "sign = lambda x: 1 if x >= 0 else -1"
   ]
  },
  {
   "cell_type": "code",
   "execution_count": null,
   "metadata": {},
   "outputs": [],
   "source": [
    "def householder(A):\n",
    "    m, n = A.shape\n",
    "    R = A.copy()\n",
    "    Q = np.eye(m)\n",
    "    for k in range(n):\n",
    "        u = R[k:, k].copy()\n",
    "        u[0] = u[0] + sign(u[0]) * la.norm(u)\n",
    "        u = u / la.norm(u)\n",
    "        R[k:, k:] = R[k:, k:] - 2 * np.outer(u, u.T @ R[k:, k:])\n",
    "        Q[k:, :] = Q[k:, :] - 2 * np.outer(u, u.T @ Q[k:, :])\n",
    "    return Q.T, R"
   ]
  },
  {
   "cell_type": "code",
   "execution_count": null,
   "metadata": {},
   "outputs": [],
   "source": [
    "A = np.random.random((5, 3))\n",
    "Q, R = la.qr(A)\n",
    "print(A.shape, Q.shape, R.shape)"
   ]
  },
  {
   "cell_type": "code",
   "execution_count": null,
   "metadata": {},
   "outputs": [],
   "source": [
    "np.allclose(Q @ R, A)"
   ]
  },
  {
   "cell_type": "code",
   "execution_count": null,
   "metadata": {},
   "outputs": [],
   "source": [
    "Q, R = householder(A)"
   ]
  },
  {
   "cell_type": "code",
   "execution_count": null,
   "metadata": {},
   "outputs": [],
   "source": [
    "np.allclose(Q @ R, A)"
   ]
  },
  {
   "cell_type": "markdown",
   "metadata": {},
   "source": [
    "#### Problem 5"
   ]
  },
  {
   "cell_type": "code",
   "execution_count": null,
   "metadata": {},
   "outputs": [],
   "source": [
    "def hessenberg(A):\n",
    "    m, n = A.shape\n",
    "    H = A.copy()\n",
    "    Q = np.eye(m)\n",
    "    for k in range(n - 2):\n",
    "        u = H[k+1:, k].copy()\n",
    "        u[0] = u[0] + sign(u[0]) * la.norm(u)\n",
    "        u = u / la.norm(u)\n",
    "        H[k+1:, k:] = H[k+1:, k:] - 2 * np.outer(u, u.T @ H[k+1:, k:])\n",
    "        H[:, k+1:] = H[:, k+1:] - 2 * np.outer(H[:, k+1:] @ u, u.T)\n",
    "        Q[k+1:, :] = Q[k+1:, :] - 2 * np.outer(u, u.T @ Q[k+1:, :])\n",
    "    return H, Q.T"
   ]
  },
  {
   "cell_type": "code",
   "execution_count": null,
   "metadata": {},
   "outputs": [],
   "source": [
    "A = np.random.random((8, 8))\n",
    "H, Q = la.hessenberg(A, calc_q=True)"
   ]
  },
  {
   "cell_type": "code",
   "execution_count": null,
   "metadata": {},
   "outputs": [],
   "source": [
    "np.allclose(np.triu(H, -1), H)"
   ]
  },
  {
   "cell_type": "code",
   "execution_count": null,
   "metadata": {},
   "outputs": [],
   "source": [
    "np.allclose(Q @ H @ Q.T, A)"
   ]
  },
  {
   "cell_type": "code",
   "execution_count": null,
   "metadata": {},
   "outputs": [],
   "source": [
    "H, Q = hessenberg(A)"
   ]
  },
  {
   "cell_type": "code",
   "execution_count": null,
   "metadata": {},
   "outputs": [],
   "source": [
    "np.allclose(Q @ H @ Q.T, A)"
   ]
  },
  {
   "cell_type": "markdown",
   "metadata": {},
   "source": [
    "# Least Squares and Computing Eigenvalues"
   ]
  },
  {
   "cell_type": "code",
   "execution_count": null,
   "metadata": {},
   "outputs": [],
   "source": [
    "from matplotlib import pyplot as plt\n",
    "import numpy as np\n",
    "from scipy import linalg as la\n",
    "import cmath"
   ]
  },
  {
   "cell_type": "markdown",
   "metadata": {},
   "source": [
    "#### Problem 1"
   ]
  },
  {
   "cell_type": "code",
   "execution_count": null,
   "metadata": {},
   "outputs": [],
   "source": [
    "def solve_normal(A, b):\n",
    "    Q, R = QR_decomposition(A)\n",
    "    x = la.solve_triangular(R, Q.T @ b)\n",
    "    return x"
   ]
  },
  {
   "cell_type": "code",
   "execution_count": null,
   "metadata": {},
   "outputs": [],
   "source": [
    "A = np.random.random((7, 5))\n",
    "b = np.random.random(7)\n",
    "solve_normal(A, b)"
   ]
  },
  {
   "cell_type": "markdown",
   "metadata": {},
   "source": [
    "#### Problem 2"
   ]
  },
  {
   "cell_type": "code",
   "execution_count": null,
   "metadata": {},
   "outputs": [],
   "source": [
    "housing = np.load('housing.npy')"
   ]
  },
  {
   "cell_type": "code",
   "execution_count": null,
   "metadata": {},
   "outputs": [],
   "source": [
    "A = np.column_stack((housing[:, 0], np.ones(len(housing))))\n",
    "b = housing[:, 1]\n",
    "x = solve_normal(A, b)"
   ]
  },
  {
   "cell_type": "code",
   "execution_count": null,
   "metadata": {},
   "outputs": [],
   "source": [
    "fig, ax = plt.subplots()\n",
    "ax.scatter(housing[:, 0], housing[:, 1], label='Data Points')\n",
    "x_int = np.linspace(0, 17, 33)\n",
    "ax.scatter(x_int, x[0] * x_int + x[1], label='Least Squares Fit')\n",
    "plt.legend()\n",
    "plt.show()"
   ]
  },
  {
   "cell_type": "markdown",
   "metadata": {},
   "source": [
    "#### Problem 3"
   ]
  },
  {
   "cell_type": "code",
   "execution_count": null,
   "metadata": {},
   "outputs": [],
   "source": [
    "housing = np.load('housing.npy')"
   ]
  },
  {
   "cell_type": "code",
   "execution_count": null,
   "metadata": {},
   "outputs": [],
   "source": [
    "def housing_fit(housing):\n",
    "    A = np.vander(housing[:, 0], 13)\n",
    "    b = housing[:, 1]\n",
    "    x_int = np.linspace(0, 17, 1000)\n",
    "    fig, axes = plt.subplots(4, 1, figsize=(8, 20))\n",
    "    \n",
    "    for n, i in enumerate(range(9, -1, -3)):\n",
    "        A_i = A[:, i:]\n",
    "        x = la.lstsq(A_i, b)[0]\n",
    "        f = np.poly1d(x)\n",
    "        axes[n,].scatter(housing[:, 0], housing[:, 1], label='Data Points')\n",
    "        axes[n,].plot(x_int, f(x_int), color='orange', label=f'Polynomial degree {12 - i} fit')\n",
    "        axes[n,].legend(loc='lower center')\n",
    "        axes[n,].set_ylim([110, 240])\n",
    "        \n",
    "    plt.show()    "
   ]
  },
  {
   "cell_type": "code",
   "execution_count": null,
   "metadata": {},
   "outputs": [],
   "source": [
    "housing_fit(housing)"
   ]
  },
  {
   "cell_type": "code",
   "execution_count": null,
   "metadata": {},
   "outputs": [],
   "source": [
    "fig, axes = plt.subplots(4, 1, figsize=(8, 20))\n",
    "\n",
    "for n, i in enumerate(range(3, 13, 3)):\n",
    "    \n",
    "    f = np.poly1d(np.polyfit(housing[:, 0], housing[:, 1], i))\n",
    "    axes[n,].scatter(housing[:, 0], housing[:, 1], label='Data Points')\n",
    "    axes[n,].plot(x_int, f(x_int), color='orange', label=f'Polynomial degree {i} (polyfit)')\n",
    "    axes[n,].legend(loc='lower center')\n",
    "    axes[n,].set_ylim([110, 240])"
   ]
  },
  {
   "cell_type": "markdown",
   "metadata": {},
   "source": [
    "#### Problem 4"
   ]
  },
  {
   "cell_type": "code",
   "execution_count": null,
   "metadata": {},
   "outputs": [],
   "source": [
    "ellipse = np.load('ellipse.npy')"
   ]
  },
  {
   "cell_type": "code",
   "execution_count": null,
   "metadata": {},
   "outputs": [],
   "source": [
    "def ellipse_fit(ellipse):\n",
    "    x, y = ellipse[:, 0], ellipse[:, 1]\n",
    "    A = np.column_stack((x ** 2, x, x * y, y, y ** 2))\n",
    "    b_vec = np.ones(len(ellipse))\n",
    "    \n",
    "    c = la.lstsq(A, b_vec)[0]\n",
    "    plot_ellipse(c[0], c[1], c[2], c[3], c[4])\n",
    "    plt.scatter(x, y, label='Data Points')\n",
    "    plt.show()\n",
    "    "
   ]
  },
  {
   "cell_type": "code",
   "execution_count": null,
   "metadata": {},
   "outputs": [],
   "source": [
    "def plot_ellipse(a, b, c, d, e):\n",
    "    theta = np.linspace(0, 2 * np.pi, 200)\n",
    "    cos_t, sin_t = np.cos(theta), np.sin(theta)\n",
    "    A = a * (cos_t ** 2) + c * cos_t * sin_t + e * (sin_t ** 2)\n",
    "    B = b * cos_t + d * sin_t\n",
    "    r = (-B + np.sqrt(B ** 2 + 4 * A)) / (2 * A)\n",
    "    plt.plot(r * cos_t, r * sin_t, lw=2, color='orange', label='Fitted Ellipse')\n",
    "    plt.gca().set_aspect('equal', 'datalim')"
   ]
  },
  {
   "cell_type": "code",
   "execution_count": null,
   "metadata": {},
   "outputs": [],
   "source": [
    "ellipse_fit(ellipse)"
   ]
  },
  {
   "cell_type": "markdown",
   "metadata": {},
   "source": [
    "#### Problem 5"
   ]
  },
  {
   "cell_type": "code",
   "execution_count": null,
   "metadata": {},
   "outputs": [],
   "source": [
    "def power_method(A, N, tol):\n",
    "    m, n = A.shape\n",
    "    x = np.random.random(size=n)\n",
    "    x = x / la.norm(x)\n",
    "    k = 0\n",
    "    t = 1e8\n",
    "    while (t > tol) & (k < N):\n",
    "        x = A @ x\n",
    "        x = x / la.norm(x)\n",
    "        k += 1\n",
    "    return x.T @ A @x, x"
   ]
  },
  {
   "cell_type": "code",
   "execution_count": null,
   "metadata": {},
   "outputs": [],
   "source": [
    "A = np.random.random((10, 10))\n",
    "eigs, vecs = la.eig(A)\n",
    "loc = np.argmax(eigs)\n",
    "lamb, x = eigs[loc], vecs[:, loc]"
   ]
  },
  {
   "cell_type": "code",
   "execution_count": null,
   "metadata": {},
   "outputs": [],
   "source": [
    "np.allclose(A @ x, lamb * x)"
   ]
  },
  {
   "cell_type": "code",
   "execution_count": null,
   "metadata": {},
   "outputs": [],
   "source": [
    "lamb, x = power_method(A, 100, 1e-4)"
   ]
  },
  {
   "cell_type": "code",
   "execution_count": null,
   "metadata": {},
   "outputs": [],
   "source": [
    "np.allclose(A @ x, lamb * x)"
   ]
  },
  {
   "cell_type": "markdown",
   "metadata": {},
   "source": [
    "#### Problem 6"
   ]
  },
  {
   "cell_type": "code",
   "execution_count": null,
   "metadata": {},
   "outputs": [],
   "source": [
    "def QR_algorithm(A, N, tol):\n",
    "    m, n = A.shape\n",
    "    S = la.hessenberg(A)\n",
    "    for k in range(N):\n",
    "        Q, R = QR_decomposition(S)\n",
    "        S = R @ Q\n",
    "    eigs = []\n",
    "    i = 0\n",
    "    while i < n:\n",
    "        if i == n - 1:\n",
    "            eigs.append(S[i, i])\n",
    "        elif S[i + 1, i] < tol:\n",
    "            eigs.append(S[i, i])\n",
    "        elif len(S[i:, i:]) == 2:\n",
    "            λ1 = ((S[i, i] + S[i+1, i+1]) + cmath.sqrt((S[i, i] + S[i+1, i+1]) ** 2 \n",
    "                                                      - 4 * (S[i, i] * S[i+1, i+1] - S[i, i+1] * S[i+1, i]))) / 2\n",
    "            λ2 = ((S[i, i] + S[i+1, i+1]) - cmath.sqrt((S[i, i] + S[i+1, i+1]) ** 2 \n",
    "                                                      - 4 * (S[i, i] * S[i+1, i+1] - S[i, i+1] * S[i+1, i]))) / 2\n",
    "            eigs.append(λ1, λ2)\n",
    "            i += 1\n",
    "        i += 1\n",
    "        \n",
    "    return eigs"
   ]
  },
  {
   "cell_type": "code",
   "execution_count": null,
   "metadata": {},
   "outputs": [],
   "source": [
    "A = np.random.random((5, 5))\n",
    "la.eig(A + A.T)"
   ]
  },
  {
   "cell_type": "code",
   "execution_count": null,
   "metadata": {},
   "outputs": [],
   "source": [
    "print(A)"
   ]
  },
  {
   "cell_type": "code",
   "execution_count": null,
   "metadata": {},
   "outputs": [],
   "source": [
    "QR_algorithm(A + A.T, 1000, 1e-8)"
   ]
  },
  {
   "cell_type": "markdown",
   "metadata": {},
   "source": [
    "# The SVD and Image Compression"
   ]
  },
  {
   "cell_type": "code",
   "execution_count": null,
   "metadata": {},
   "outputs": [],
   "source": [
    "import numpy as np\n",
    "from scipy import linalg as la\n",
    "import cmath\n",
    "from matplotlib import pyplot as plt"
   ]
  },
  {
   "cell_type": "code",
   "execution_count": null,
   "metadata": {},
   "outputs": [],
   "source": [
    "def compact_SVD(A, tol):\n",
    "    λ, V = la.eig(A.conj().T @ A)\n",
    "    σ = np.sqrt(λ).real\n",
    "    order = np.argsort(σ)[::-1]\n",
    "    σ[order]\n",
    "    V[order]\n",
    "    r = np.sum(σ > tol)\n",
    "    σ = σ[:r]\n",
    "    V = V[:, :r]\n",
    "    U = A @ V / σ\n",
    "    return U, σ, V.conj().T"
   ]
  },
  {
   "cell_type": "code",
   "execution_count": null,
   "metadata": {},
   "outputs": [],
   "source": [
    "A = np.random.random((10, 5))\n",
    "U, σ, V_H = la.svd(A, full_matrices=False)\n",
    "print(U.shape, σ.shape, V_H.shape)"
   ]
  },
  {
   "cell_type": "code",
   "execution_count": null,
   "metadata": {},
   "outputs": [],
   "source": [
    "np.allclose(U.T @ U, np.identity(5))"
   ]
  },
  {
   "cell_type": "code",
   "execution_count": null,
   "metadata": {},
   "outputs": [],
   "source": [
    "np.allclose(U @ np.diag(σ) @ V_H, A)"
   ]
  },
  {
   "cell_type": "code",
   "execution_count": null,
   "metadata": {},
   "outputs": [],
   "source": [
    "np.linalg.matrix_rank(A) == len(σ)"
   ]
  },
  {
   "cell_type": "code",
   "execution_count": null,
   "metadata": {},
   "outputs": [],
   "source": [
    "U, σ, V_H = compact_SVD(A, 1e-8)"
   ]
  },
  {
   "cell_type": "code",
   "execution_count": null,
   "metadata": {},
   "outputs": [],
   "source": [
    "np.allclose(U.T @ U, np.identity(5))"
   ]
  },
  {
   "cell_type": "code",
   "execution_count": null,
   "metadata": {},
   "outputs": [],
   "source": [
    "np.allclose(U @ np.diag(σ) @ V_H, A)"
   ]
  },
  {
   "cell_type": "code",
   "execution_count": null,
   "metadata": {},
   "outputs": [],
   "source": [
    "np.linalg.matrix_rank(A) == len(σ)"
   ]
  },
  {
   "cell_type": "markdown",
   "metadata": {},
   "source": [
    "#### Problem 2"
   ]
  },
  {
   "cell_type": "code",
   "execution_count": null,
   "metadata": {},
   "outputs": [],
   "source": [
    "def unit_circle(A):\n",
    "    θ = np.linspace(0, 2 * np.pi, 200)\n",
    "    S = np.vstack((np.cos(θ), np.sin(θ)))\n",
    "    E = np.array([[1, 0, 0], [0, 0, 1]])\n",
    "    \n",
    "    U, σ, V_H = la.svd(A)\n",
    "    Σ = np.diag(σ)\n",
    "    \n",
    "    fig, axes = plt.subplots(2, 2)\n",
    "    axes[0, 0].plot(S[0], S[1])\n",
    "    axes[0, 0].plot(E[0], E[1]) \n",
    "    axes[0, 0].axis('equal')\n",
    "    \n",
    "    axes[0, 1].plot((V_H @ S)[0], (V_H @ S)[1])\n",
    "    axes[0, 1].plot((V_H @ E)[0], (V_H @ E)[1])\n",
    "    axes[0, 1].axis('equal')\n",
    "    \n",
    "    axes[1, 0].plot((Σ @ V_H @ S)[0], (Σ @ V_H @ S)[1])\n",
    "    axes[1, 0].plot((Σ @ V_H @ E)[0], (Σ @ V_H @ E)[1])\n",
    "    axes[1, 0].axis('equal')\n",
    "    \n",
    "    axes[1, 1].plot((U @ Σ @ V_H @ S)[0], (U @ Σ @ V_H @ S)[1])\n",
    "    axes[1, 1].plot((U @ Σ @ V_H @ E)[0], (U @ Σ @ V_H @ E)[1])\n",
    "    axes[1, 1].axis('equal')\n",
    "    \n",
    "    plt.show()"
   ]
  },
  {
   "cell_type": "code",
   "execution_count": null,
   "metadata": {},
   "outputs": [],
   "source": [
    "A = np.array([[3, 1], [1, 3]])\n",
    "unit_circle(A)"
   ]
  },
  {
   "cell_type": "markdown",
   "metadata": {},
   "source": [
    "#### Problem 3"
   ]
  },
  {
   "cell_type": "code",
   "execution_count": null,
   "metadata": {},
   "outputs": [],
   "source": [
    "def truncated_SVD(A, s):\n",
    "    U, σ, V_H = la.svd(A)\n",
    "    if s > len(σ):\n",
    "        raise ValueError('s cannot be greater than rank(A)')\n",
    "    σ = σ[:s]\n",
    "    U = U[:, :s]\n",
    "    V_H = V_H[:s, :]\n",
    "    Σ = np.diag(σ)\n",
    "    \n",
    "    return U @ Σ @ V_H, U.size + σ.size + V_H.size"
   ]
  },
  {
   "cell_type": "code",
   "execution_count": null,
   "metadata": {},
   "outputs": [],
   "source": [
    "A = np.random.random((5, 5))\n",
    "As, entries = truncated_SVD(A, 3)"
   ]
  },
  {
   "cell_type": "code",
   "execution_count": null,
   "metadata": {},
   "outputs": [],
   "source": [
    "np.linalg.matrix_rank(As)"
   ]
  },
  {
   "cell_type": "code",
   "execution_count": null,
   "metadata": {},
   "outputs": [],
   "source": [
    "entries"
   ]
  },
  {
   "cell_type": "markdown",
   "metadata": {},
   "source": [
    "#### Problem 4"
   ]
  },
  {
   "cell_type": "code",
   "execution_count": null,
   "metadata": {},
   "outputs": [],
   "source": [
    "def truncated_SVD_error(A, ϵ):\n",
    "    U, σ, V_H = la.svd(A)\n",
    "    if ϵ < np.min(σ):\n",
    "        raise ValueError('ϵ must be larger than the smallest singular value of A')\n",
    "    s = len(σ[σ > ϵ])\n",
    "    σ = σ[:s]\n",
    "    U = U[:, :s]\n",
    "    V_H = V_H[:s, :]\n",
    "    Σ = np.diag(σ)\n",
    "    \n",
    "    return U @ Σ @ V_H, U.size + σ.size + V_H.size"
   ]
  },
  {
   "cell_type": "code",
   "execution_count": null,
   "metadata": {},
   "outputs": [],
   "source": [
    "A = np.random.random((3, 3))\n",
    "As, entries = truncated_SVD_error(A, 0.5)\n",
    "la.norm(A - As)"
   ]
  },
  {
   "cell_type": "code",
   "execution_count": null,
   "metadata": {},
   "outputs": [],
   "source": [
    "A = np.random.random((10, 10))\n",
    "As, entries = truncated_SVD_error(A, 0.2)\n",
    "la.norm(A - As)"
   ]
  },
  {
   "cell_type": "markdown",
   "metadata": {},
   "source": [
    "#### Problem 5"
   ]
  },
  {
   "cell_type": "code",
   "execution_count": null,
   "metadata": {},
   "outputs": [],
   "source": [
    "def image_compression(filename, s):\n",
    "    image = plt.imread(filename) / 255\n",
    "    fig, axes = plt.subplots(1, 2, figsize=(20, 10))\n",
    "    \n",
    "    if image.ndim == 2:\n",
    "        axes[0].imshow(image, cmap='gray')\n",
    "        axes[0].axis('off')\n",
    "\n",
    "        im_approx, entries = truncated_SVD(image, s)\n",
    "        im_approx[im_approx < 0] = 0\n",
    "        im_approx[im_approx > 1] = 1\n",
    "        axes[1].imshow(im_approx, cmap='gray')\n",
    "        axes[1].axis('off')\n",
    "        \n",
    "        plt.suptitle(f'Difference in number of entries required: {image.size - entries}', fontsize=20)\n",
    "        plt.show()\n",
    "    \n",
    "    elif image.ndim == 3:\n",
    "        axes[0].imshow(image)\n",
    "        axes[0].axis('off')\n",
    "\n",
    "        layers = []\n",
    "        entries = 0\n",
    "        for i in range(3):\n",
    "            color = image[:,:,i]\n",
    "            layer, entries_i = truncated_SVD(color, s)\n",
    "            layer[layer < 0] = 0\n",
    "            layer[layer > 1] = 1\n",
    "            layers.append(layer)\n",
    "            entries += entries_i\n",
    "        approximated = np.dstack(layers)\n",
    "        axes[1].imshow(approximated)\n",
    "        axes[1].axis('off')\n",
    "             \n",
    "        plt.suptitle(f'Difference in number of entries required: {image.size - entries}', fontsize=20)\n",
    "        plt.show()"
   ]
  },
  {
   "cell_type": "code",
   "execution_count": null,
   "metadata": {},
   "outputs": [],
   "source": [
    "image_compression('grey.jpg', 10)"
   ]
  },
  {
   "cell_type": "code",
   "execution_count": null,
   "metadata": {},
   "outputs": [],
   "source": [
    "image_compression('hubble.jpg', 10)"
   ]
  },
  {
   "cell_type": "markdown",
   "metadata": {},
   "source": [
    "# The Drazin Inverse"
   ]
  },
  {
   "cell_type": "code",
   "execution_count": 1,
   "metadata": {},
   "outputs": [],
   "source": [
    "import numpy as np\n",
    "from scipy import linalg as la\n",
    "import pandas as pd"
   ]
  },
  {
   "cell_type": "markdown",
   "metadata": {},
   "source": [
    "#### Problem 1"
   ]
  },
  {
   "cell_type": "code",
   "execution_count": 2,
   "metadata": {},
   "outputs": [],
   "source": [
    "def is_drazin(A, k, A_D):\n",
    "    return (np.allclose(A @ A_D, A_D @ A) \n",
    "            & np.allclose(np.linalg.matrix_power(A, k+1) @ A_D, np.linalg.matrix_power(A, k)) \n",
    "            & np.allclose(A_D @ A @ A_D, A_D))"
   ]
  },
  {
   "cell_type": "code",
   "execution_count": 3,
   "metadata": {},
   "outputs": [
    {
     "data": {
      "text/plain": [
       "True"
      ]
     },
     "execution_count": 3,
     "metadata": {},
     "output_type": "execute_result"
    }
   ],
   "source": [
    "A = np.array([[1, 3, 0, 0], [0, 1, 3, 0], [0, 0, 1, 3], [0, 0, 0, 0]])\n",
    "A_D = np.array([[1, -3, 9, 81], [0, 1, -3, -18], [0, 0, 1, 3], [0, 0, 0, 0]])\n",
    "is_drazin(A, 1, A_D)"
   ]
  },
  {
   "cell_type": "code",
   "execution_count": 4,
   "metadata": {},
   "outputs": [
    {
     "data": {
      "text/plain": [
       "True"
      ]
     },
     "execution_count": 4,
     "metadata": {},
     "output_type": "execute_result"
    }
   ],
   "source": [
    "B = np.array([[1, 1, 3], [5, 2, 6], [-2, -1, -3]])\n",
    "B_D = np.array([[0, 0, 0], [0, 0, 0], [0, 0, 0]])\n",
    "is_drazin(B, 3, B_D)"
   ]
  },
  {
   "cell_type": "markdown",
   "metadata": {},
   "source": [
    "#### Problem 2"
   ]
  },
  {
   "cell_type": "code",
   "execution_count": 5,
   "metadata": {},
   "outputs": [],
   "source": [
    "def drazin(A, tol):\n",
    "    n, n = A.shape\n",
    "    f = lambda x: abs(x) > tol\n",
    "    g = lambda x: abs(x) <= tol\n",
    "    Q1, S, k1 = la.schur(A, sort=f)\n",
    "    Q2, T, k2 = la.schur(A, sort=g)\n",
    "    U = np.hstack((S[:, :k1], T[:, :(n - k1)]))\n",
    "    U_inv = la.inv(U)\n",
    "    V = U_inv @ A @ U\n",
    "    Z = np.zeros((n, n))\n",
    "    if k1 != 0:\n",
    "        M_inv = la.inv(V[:k1, :k1])\n",
    "        Z[:k1, :k1] = M_inv\n",
    "    return U @ Z @ U_inv"
   ]
  },
  {
   "cell_type": "code",
   "execution_count": 6,
   "metadata": {},
   "outputs": [
    {
     "data": {
      "text/plain": [
       "array([[  1.,  -3.,   9.,  81.],\n",
       "       [  0.,   1.,  -3., -18.],\n",
       "       [  0.,   0.,   1.,   3.],\n",
       "       [  0.,   0.,   0.,   0.]])"
      ]
     },
     "execution_count": 6,
     "metadata": {},
     "output_type": "execute_result"
    }
   ],
   "source": [
    "drazin(A, 1e-3)"
   ]
  },
  {
   "cell_type": "code",
   "execution_count": 7,
   "metadata": {},
   "outputs": [
    {
     "data": {
      "text/plain": [
       "array([[0., 0., 0.],\n",
       "       [0., 0., 0.],\n",
       "       [0., 0., 0.]])"
      ]
     },
     "execution_count": 7,
     "metadata": {},
     "output_type": "execute_result"
    }
   ],
   "source": [
    "drazin(B, 1e-3)"
   ]
  },
  {
   "cell_type": "markdown",
   "metadata": {},
   "source": [
    "#### Problem 3"
   ]
  },
  {
   "cell_type": "code",
   "execution_count": 8,
   "metadata": {},
   "outputs": [],
   "source": [
    "def find_resistance(G):\n",
    "    n, n = G.shape\n",
    "    L = np.sum(G, axis=0) * np.identity(n) - G\n",
    "    R = np.empty_like(L)\n",
    "    \n",
    "    for j in range(n):\n",
    "        Lj = L.copy()\n",
    "        Lj[:, j] = np.identity(n)[:, j]\n",
    "        Lj_D = drazin(Lj, 1e-3)\n",
    "        R[:, j] = Lj_D.diagonal()\n",
    "    \n",
    "    for i in range(len(R)):\n",
    "         R[i, i] = 0\n",
    "            \n",
    "    return R"
   ]
  },
  {
   "cell_type": "code",
   "execution_count": 9,
   "metadata": {},
   "outputs": [
    {
     "data": {
      "text/plain": [
       "array([[0., 1., 2., 3.],\n",
       "       [1., 0., 1., 2.],\n",
       "       [2., 1., 0., 1.],\n",
       "       [3., 2., 1., 0.]])"
      ]
     },
     "execution_count": 9,
     "metadata": {},
     "output_type": "execute_result"
    }
   ],
   "source": [
    "G1 = np.array([[0, 1, 0, 0], [1, 0, 1, 0], [0, 1, 0, 1], [0, 0, 1, 0]])\n",
    "find_resistance(G1)"
   ]
  },
  {
   "cell_type": "code",
   "execution_count": 10,
   "metadata": {},
   "outputs": [
    {
     "data": {
      "text/plain": [
       "array([[0., 1.],\n",
       "       [1., 0.]])"
      ]
     },
     "execution_count": 10,
     "metadata": {},
     "output_type": "execute_result"
    }
   ],
   "source": [
    "G2 = np.array([[0, 1], [1, 0]])\n",
    "find_resistance(G2)"
   ]
  },
  {
   "cell_type": "code",
   "execution_count": 11,
   "metadata": {},
   "outputs": [
    {
     "data": {
      "text/plain": [
       "array([[0.        , 0.66666667, 0.66666667],\n",
       "       [0.66666667, 0.        , 0.66666667],\n",
       "       [0.66666667, 0.66666667, 0.        ]])"
      ]
     },
     "execution_count": 11,
     "metadata": {},
     "output_type": "execute_result"
    }
   ],
   "source": [
    "G3 = np.array([[0, 1, 1], [1, 0, 1], [1, 1, 0]])\n",
    "find_resistance(G3)"
   ]
  },
  {
   "cell_type": "code",
   "execution_count": 12,
   "metadata": {},
   "outputs": [
    {
     "data": {
      "text/plain": [
       "array([[0.        , 0.33333333],\n",
       "       [0.33333333, 0.        ]])"
      ]
     },
     "execution_count": 12,
     "metadata": {},
     "output_type": "execute_result"
    }
   ],
   "source": [
    "G4 = np.array([[0, 3], [3, 0]])\n",
    "find_resistance(G4)"
   ]
  },
  {
   "cell_type": "code",
   "execution_count": 13,
   "metadata": {},
   "outputs": [
    {
     "data": {
      "text/plain": [
       "array([[0. , 0.5],\n",
       "       [0.5, 0. ]])"
      ]
     },
     "execution_count": 13,
     "metadata": {},
     "output_type": "execute_result"
    }
   ],
   "source": [
    "G5 = np.array([[0, 2], [2, 0]])\n",
    "find_resistance(G5)"
   ]
  },
  {
   "cell_type": "code",
   "execution_count": 14,
   "metadata": {},
   "outputs": [
    {
     "data": {
      "text/plain": [
       "array([[0.  , 0.25],\n",
       "       [0.25, 0.  ]])"
      ]
     },
     "execution_count": 14,
     "metadata": {},
     "output_type": "execute_result"
    }
   ],
   "source": [
    "G6 = np.array([[0, 4], [4, 0]])\n",
    "find_resistance(G6)"
   ]
  },
  {
   "cell_type": "markdown",
   "metadata": {},
   "source": [
    "#### Problem 4 + 5"
   ]
  },
  {
   "cell_type": "code",
   "execution_count": 26,
   "metadata": {},
   "outputs": [],
   "source": [
    "class LinkPredictor:\n",
    "    \n",
    "    def __init__(self, file):\n",
    "        network = pd.read_csv(file, header=None)\n",
    "        self.names = np.unique(np.concatenate((network[0], network[1]))) #list of unique names\n",
    "        n = len(self.names)\n",
    "        self.adjacency = np.zeros((n, n), dtype=int)\n",
    "        for i in network.index:   #iterate through pairs of names\n",
    "            link = network.loc[i]\n",
    "            name1, name2 = link[0], link[1]\n",
    "            i = np.argwhere(self.names == name1)\n",
    "            j = np.argwhere(self.names == name2)\n",
    "            self.adjacency[i, j], self.adjacency[j, i] = 1, 1  #add link\n",
    "        self.resistance = find_resistance(self.adjacency)  #calculate resistance matrix\n",
    "        \n",
    "    def predict_link(self, node=None):\n",
    "        r = self.resistance.copy()\n",
    "        connected = np.argwhere(self.adjacency == 1)  #locate pairs of connected people\n",
    "        r[connected[:, 0], connected[:, 1]] = 0  #set resistance between these pairs to 0\n",
    "        if node is None:\n",
    "            min_val = np.min(r[r > 0])\n",
    "            loc = np.argwhere(r == min_val).flatten()\n",
    "            pair = (self.names[loc[0]], self.names[loc[1]])\n",
    "        elif type(node) == str:\n",
    "            if node not in self.names:\n",
    "                raise ValueError('Not in network')\n",
    "            index = np.argwhere(self.names == node).flatten()[0]\n",
    "            min_val = np.min(r[index][r[index] > 0])\n",
    "            loc = np.argwhere(r[index] == min_val).flatten()\n",
    "            pair = (self.names[index], self.names[loc[0]])\n",
    "        else:\n",
    "            raise ValueError('Incorrect type')\n",
    "        return pair\n",
    "    \n",
    "    def add_link(self, node1, node2):\n",
    "        if (node1 not in self.names) or (node1 not in self.names):\n",
    "            raise ValueError(\"Not in network\")\n",
    "        else:\n",
    "            i = np.argwhere(self.names == node1)\n",
    "            j = np.argwhere(self.names == node2)\n",
    "            self.adjacency[i, j], self.adjacency[j, i] = 1, 1\n",
    "            self.resistance = find_resistance(self.adjacency)"
   ]
  },
  {
   "cell_type": "code",
   "execution_count": 28,
   "metadata": {},
   "outputs": [],
   "source": [
    "link = LinkPredictor('social_network.csv')"
   ]
  },
  {
   "cell_type": "code",
   "execution_count": 29,
   "metadata": {},
   "outputs": [
    {
     "data": {
      "text/plain": [
       "('Emily', 'Oliver')"
      ]
     },
     "execution_count": 29,
     "metadata": {},
     "output_type": "execute_result"
    }
   ],
   "source": [
    "link.predict_link()"
   ]
  },
  {
   "cell_type": "code",
   "execution_count": 30,
   "metadata": {},
   "outputs": [
    {
     "data": {
      "text/plain": [
       "('Melanie', 'Carol')"
      ]
     },
     "execution_count": 30,
     "metadata": {},
     "output_type": "execute_result"
    }
   ],
   "source": [
    "link.predict_link('Melanie')"
   ]
  },
  {
   "cell_type": "code",
   "execution_count": 31,
   "metadata": {},
   "outputs": [
    {
     "data": {
      "text/plain": [
       "('Alan', 'Sonia')"
      ]
     },
     "execution_count": 31,
     "metadata": {},
     "output_type": "execute_result"
    }
   ],
   "source": [
    "link.predict_link('Alan')"
   ]
  },
  {
   "cell_type": "code",
   "execution_count": 33,
   "metadata": {},
   "outputs": [
    {
     "data": {
      "text/plain": [
       "('Alan', 'Piers')"
      ]
     },
     "execution_count": 33,
     "metadata": {},
     "output_type": "execute_result"
    }
   ],
   "source": [
    "link.add_link('Alan', 'Sonia')\n",
    "link.predict_link('Alan')"
   ]
  },
  {
   "cell_type": "code",
   "execution_count": 34,
   "metadata": {},
   "outputs": [
    {
     "data": {
      "text/plain": [
       "('Alan', 'Abigail')"
      ]
     },
     "execution_count": 34,
     "metadata": {},
     "output_type": "execute_result"
    }
   ],
   "source": [
    "link.add_link('Alan', 'Piers')\n",
    "link.predict_link('Alan')"
   ]
  },
  {
   "cell_type": "code",
   "execution_count": null,
   "metadata": {},
   "outputs": [],
   "source": []
  }
 ],
 "metadata": {
  "kernelspec": {
   "display_name": "Python 3",
   "language": "python",
   "name": "python3"
  },
  "language_info": {
   "codemirror_mode": {
    "name": "ipython",
    "version": 3
   },
   "file_extension": ".py",
   "mimetype": "text/x-python",
   "name": "python",
   "nbconvert_exporter": "python",
   "pygments_lexer": "ipython3",
   "version": "3.6.4"
  }
 },
 "nbformat": 4,
 "nbformat_minor": 2
}
