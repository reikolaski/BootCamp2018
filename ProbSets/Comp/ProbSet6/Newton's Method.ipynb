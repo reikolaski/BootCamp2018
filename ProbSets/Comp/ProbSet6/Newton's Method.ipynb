{
 "cells": [
  {
   "cell_type": "code",
   "execution_count": 167,
   "metadata": {},
   "outputs": [],
   "source": [
    "import numpy as np\n",
    "import sympy as sy\n",
    "from scipy import optimize as opt\n",
    "from matplotlib import pyplot as plt\n",
    "from scipy import linalg as la"
   ]
  },
  {
   "cell_type": "markdown",
   "metadata": {},
   "source": [
    "# Problem 1"
   ]
  },
  {
   "cell_type": "code",
   "execution_count": 168,
   "metadata": {},
   "outputs": [],
   "source": [
    "def newtons(f, x_0, f_prime, tol=1e-5, maxiters=15):\n",
    "    '''\n",
    "    Computes a zero of f using Newtons method.\n",
    "    \n",
    "    Returns: approximation to x s.t. f(x) = 0, a boolean\n",
    "    indicating whether or not the algorithm converged, and \n",
    "    the number of iterations completed\n",
    "    '''\n",
    "    i = 0\n",
    "    dist = 1e3\n",
    "    converged = False\n",
    "    while dist >= tol and i < maxiters:\n",
    "        x_1 = x_0 - (f(x_0) / f_prime(x_0))\n",
    "        dist = np.abs(x_1 - x_0)\n",
    "        x_0 = x_1\n",
    "        i += 1\n",
    "    if i < maxiters:\n",
    "        converged = True\n",
    "        \n",
    "    return x_1, converged, i"
   ]
  },
  {
   "cell_type": "code",
   "execution_count": 169,
   "metadata": {},
   "outputs": [
    {
     "name": "stdout",
     "output_type": "stream",
     "text": [
      "x = 0.6931471805600254\n",
      "converged: True\n",
      "number of iterations: 5\n",
      "f(x) = 1.603162047558726e-13\n",
      "\n",
      "scipy x = 0.6931471805599592\n"
     ]
    }
   ],
   "source": [
    "f = sy.lambdify(sy.symbols('x'), (lambda x: sy.exp(sy.symbols('x')) - 2)(sy.symbols('x')))\n",
    "f_prime = sy.lambdify(sy.symbols('x'), (lambda x: sy.diff(sy.exp(sy.symbols('x')) - 2))(sy.symbols('x')))\n",
    "\n",
    "x = newtons(f, 0, f_prime)\n",
    "print(f'x = {x[0]}\\nconverged: {x[1]}\\nnumber of iterations: {x[2]}')\n",
    "print(f'f(x) = {f(x[0])}')\n",
    "\n",
    "x_sci = opt.newton(lambda x: np.exp(x) - 2, 0)\n",
    "print(f'\\nscipy x = {x_sci}')"
   ]
  },
  {
   "cell_type": "code",
   "execution_count": 170,
   "metadata": {},
   "outputs": [
    {
     "name": "stdout",
     "output_type": "stream",
     "text": [
      "x = 1.3160740129543826\n",
      "converged: True\n",
      "number of iterations: 5\n",
      "f(x) = 1.723465814507108e-11\n",
      "\n",
      "scipy x = 1.3160740129524924\n"
     ]
    }
   ],
   "source": [
    "f = sy.lambdify(sy.symbols('x'), (lambda x: sy.symbols('x')**4 - 3)(sy.symbols('x')))\n",
    "f_prime = sy.lambdify(sy.symbols('x'), (lambda x: sy.diff(sy.symbols('x')**4 - 3))(sy.symbols('x')))\n",
    "\n",
    "x = newtons(f, 1, f_prime)\n",
    "print(f'x = {x[0]}\\nconverged: {x[1]}\\nnumber of iterations: {x[2]}')\n",
    "print(f'f(x) = {f(x[0])}')\n",
    "\n",
    "x_sci = opt.newton(lambda x: x ** 4 - 3, 1)\n",
    "print(f'\\nscipy x = {x_sci}')"
   ]
  },
  {
   "cell_type": "markdown",
   "metadata": {},
   "source": [
    "# Problem 2"
   ]
  },
  {
   "cell_type": "code",
   "execution_count": 171,
   "metadata": {},
   "outputs": [],
   "source": [
    "def interest(N1, N2, P1, P2):\n",
    "    f = lambda r: P1 * ((1 + r) ** N1 - 1) - P2 * (1 - (1 + r) ** (-N2))\n",
    "    f_prime = lambda r: N1 * P1 * (1 + r) ** (N1 - 1) - N2 * P2 * (1 + r) ** (-N2 - 1)\n",
    "\n",
    "    r_0 = 0.1\n",
    "    return newtons(f, r_0, f_prime)"
   ]
  },
  {
   "cell_type": "code",
   "execution_count": 172,
   "metadata": {},
   "outputs": [
    {
     "name": "stdout",
     "output_type": "stream",
     "text": [
      "r = 0.03877843223027751\n"
     ]
    }
   ],
   "source": [
    "N1 = 30\n",
    "N2 = 20\n",
    "P1 = 2000\n",
    "P2 = 8000\n",
    "r = interest(N1, N2, P1, P2)\n",
    "print(f'r = {r[0]}')"
   ]
  },
  {
   "cell_type": "markdown",
   "metadata": {},
   "source": [
    "# Problem 3"
   ]
  },
  {
   "cell_type": "code",
   "execution_count": 173,
   "metadata": {},
   "outputs": [],
   "source": [
    "def newtons_with_backtracking(f, x_0, f_prime, α=1, tol=1e-5, maxiters=15):\n",
    "    '''\n",
    "    Computes a zero of f using Newtons method with backtracking.\n",
    "    \n",
    "    Returns: approximation to x s.t. f(x) = 0, a boolean\n",
    "    indicating whether or not the algorithm converged, and \n",
    "    the number of iterations completed\n",
    "    '''\n",
    "    i = 0\n",
    "    dist = 1e3\n",
    "    converged = False\n",
    "    while dist >= tol and i < maxiters:\n",
    "        x_1 = x_0 - α * (f(x_0) / f_prime(x_0))\n",
    "        dist = np.abs(x_1 - x_0)\n",
    "        x_0 = x_1\n",
    "        i += 1\n",
    "    if i < maxiters:\n",
    "        converged = True\n",
    "        \n",
    "    return x_1, converged, i"
   ]
  },
  {
   "cell_type": "code",
   "execution_count": 174,
   "metadata": {},
   "outputs": [],
   "source": [
    "f = lambda x: np.sign(x) * np.power(np.abs(x), 1./3)\n",
    "f_prime = lambda x: 1./3 * np.power(np.abs(x), -2/3)"
   ]
  },
  {
   "cell_type": "code",
   "execution_count": 175,
   "metadata": {},
   "outputs": [
    {
     "name": "stdout",
     "output_type": "stream",
     "text": [
      "x = -327.6800000000003\n",
      "converged: False\n",
      "number of iterations: 15\n"
     ]
    }
   ],
   "source": [
    "x = newtons_with_backtracking(f, 0.01, f_prime)\n",
    "print(f'x = {x[0]}\\nconverged: {x[1]}\\nnumber of iterations: {x[2]}')"
   ]
  },
  {
   "cell_type": "code",
   "execution_count": 176,
   "metadata": {},
   "outputs": [
    {
     "name": "stdout",
     "output_type": "stream",
     "text": [
      "x = 6.400000000000134e-07\n",
      "converged: True\n",
      "number of iterations: 6\n",
      "f(x) = 0.008617738760127598\n"
     ]
    }
   ],
   "source": [
    "x = newtons_with_backtracking(f, 0.01, f_prime, α=0.4)\n",
    "print(f'x = {x[0]}\\nconverged: {x[1]}\\nnumber of iterations: {x[2]}')\n",
    "print(f'f(x) = {f(x[0])}')"
   ]
  },
  {
   "cell_type": "markdown",
   "metadata": {},
   "source": [
    "# Problem 4"
   ]
  },
  {
   "cell_type": "code",
   "execution_count": 177,
   "metadata": {},
   "outputs": [],
   "source": [
    "def newtons_α(f, x_0, f_prime, tol=1e-5, maxiters=100):\n",
    "    '''\n",
    "    Plot values of α against the number of iterations performed\n",
    "    by Newton's method.\n",
    "    \n",
    "    Returns: α that results in the lowest number of iterations\n",
    "\n",
    "    '''\n",
    "    n = 1000\n",
    "    α_list = np.linspace(0.01, 1.0001, n)  # test values of α\n",
    "    iterations = np.empty_like(α_list)\n",
    "    for j, α in enumerate(α_list):\n",
    "        # get number of iterations from problem (3) function\n",
    "        i = newtons_with_backtracking(f, x_0, f_prime, α, tol=tol, maxiters=maxiters)[2]\n",
    "        iterations[j] = i\n",
    "    \n",
    "    plt.plot(α_list, iterations, marker='.', markersize=1)\n",
    "    plt.xlabel(\"α\")\n",
    "    plt.ylabel(\"iterations\")\n",
    "    \n",
    "    return α_list[np.argwhere(iterations == np.min(iterations))][0][0]"
   ]
  },
  {
   "cell_type": "code",
   "execution_count": 178,
   "metadata": {},
   "outputs": [
    {
     "name": "stdout",
     "output_type": "stream",
     "text": [
      "α that results in the lowest number of iterations: 0.33\n"
     ]
    },
    {
     "data": {
      "image/png": "[encoded data removed]",
      "text/plain": [
       "<matplotlib.figure.Figure at 0x1517dcbc18>"
      ]
     },
     "metadata": {},
     "output_type": "display_data"
    }
   ],
   "source": [
    "opt_α = newtons_α(f, 0.01, f_prime)\n",
    "print(f'α that results in the lowest number of iterations: {round(opt_α, 2)}')"
   ]
  },
  {
   "cell_type": "markdown",
   "metadata": {},
   "source": [
    "# Problem 5"
   ]
  },
  {
   "cell_type": "code",
   "execution_count": 179,
   "metadata": {},
   "outputs": [],
   "source": [
    "def newtons_ndim(f, x_0, Df, tol=1e-5, maxiters=15):\n",
    "    '''\n",
    "    Computes a zero of f for any n using Newtons method.\n",
    "    \n",
    "    Returns: approximation to x s.t. f(x) = 0, a boolean\n",
    "    indicating whether or not the algorithm converged, and \n",
    "    the number of iterations completed\n",
    "    '''\n",
    "    i = 0\n",
    "    dist = 1e3\n",
    "    converged = False\n",
    "    \n",
    "    if np.isscalar(x_0):\n",
    "        while dist >= tol and i < maxiters:\n",
    "            x_1 = x_0 - (f(x_0) / Df(x_0))\n",
    "            dist = np.abs(x_1 - x_0)\n",
    "            x_0 = x_1\n",
    "            i += 1\n",
    "    else:\n",
    "        while dist >= tol and i < maxiters:\n",
    "            y = la.solve(Df(x_0), f(x_0))\n",
    "            x_1 = x_0 - y\n",
    "            dist = la.norm(x_1 - x_0, np.inf)\n",
    "            x_0 = x_1\n",
    "            i += 1\n",
    "    if i < maxiters:\n",
    "        converged = True\n",
    "        \n",
    "    return x_1, converged, i"
   ]
  },
  {
   "cell_type": "code",
   "execution_count": 180,
   "metadata": {},
   "outputs": [
    {
     "name": "stdout",
     "output_type": "stream",
     "text": [
      "x = [ 5.72204590e-06 -7.49400542e-16]\n",
      "converged: True\n",
      "number of iterations: 18\n",
      "f(x) = [3.27418093e-11 9.36750677e-16]\n"
     ]
    }
   ],
   "source": [
    "f = lambda x: np.array([x[0]**2, x[0]**3 - x[1]])\n",
    "f_prime = lambda x: np.array([[2 * x[0] , 0], [3 * x[0]**2, -1]])\n",
    "\n",
    "x = newtons_ndim(f, np.full(2, 1.5), f_prime, maxiters=100)\n",
    "print(f'x = {x[0]}\\nconverged: {x[1]}\\nnumber of iterations: {x[2]}')\n",
    "print(f'f(x) = {f(x[0])}')"
   ]
  },
  {
   "cell_type": "code",
   "execution_count": 181,
   "metadata": {},
   "outputs": [
    {
     "name": "stdout",
     "output_type": "stream",
     "text": [
      "r = 0.03877843223027751\n"
     ]
    }
   ],
   "source": [
    "def interest_2(N1, N2, P1, P2):\n",
    "    f = lambda r: P1 * ((1 + r) ** N1 - 1) - P2 * (1 - (1 + r) ** (-N2))\n",
    "    f_prime = lambda r: N1 * P1 * (1 + r) ** (N1 - 1) - N2 * P2 * (1 + r) ** (-N2 - 1)\n",
    "\n",
    "    r_0 = 0.1\n",
    "    return newtons_ndim(f, r_0, f_prime)\n",
    "\n",
    "N1 = 30\n",
    "N2 = 20\n",
    "P1 = 2000\n",
    "P2 = 8000\n",
    "r = interest_2(N1, N2, P1, P2)\n",
    "print(f'r = {r[0]}')"
   ]
  },
  {
   "cell_type": "code",
   "execution_count": 182,
   "metadata": {},
   "outputs": [],
   "source": [
    "def newtons_ndim_with_backtracking(f, x_0, Df, α=1, tol=1e-5, maxiters=15):\n",
    "    '''\n",
    "    Computes a zero of f for any n using Newtons method with backtracking.\n",
    "    \n",
    "    Returns: approximation to x s.t. f(x) = 0, a boolean\n",
    "    indicating whether or not the algorithm converged, and \n",
    "    the number of iterations completed\n",
    "    '''\n",
    "    i = 0\n",
    "    dist = 1e3\n",
    "    converged = False\n",
    "    \n",
    "    if np.isscalar(x_0):\n",
    "        while dist >= tol and i < maxiters:\n",
    "            x_1 = x_0 - (f(x_0) / Df(x_0))\n",
    "            dist = np.abs(x_1 - x_0)\n",
    "            x_0 = x_1\n",
    "            i += 1\n",
    "    else:\n",
    "        while dist >= tol and i < maxiters:\n",
    "            y = la.solve(Df(x_0), f(x_0))\n",
    "            x_1 = x_0 - α * y\n",
    "            dist = la.norm(x_1 - x_0, np.inf)\n",
    "            x_0 = x_1\n",
    "            i += 1\n",
    "    if i < maxiters:\n",
    "        converged = True\n",
    "        \n",
    "    return x_1, converged, i"
   ]
  },
  {
   "cell_type": "code",
   "execution_count": 183,
   "metadata": {},
   "outputs": [
    {
     "name": "stdout",
     "output_type": "stream",
     "text": [
      "x = [ 2.68175604e-05 -3.37714855e-11]\n",
      "converged: True\n",
      "number of iterations: 38\n",
      "f(x) = [7.19181547e-10 3.37907722e-11]\n"
     ]
    }
   ],
   "source": [
    "f = lambda x: np.array([x[0]**2, x[0]**3 - x[1]])\n",
    "f_prime = lambda x: np.array([[2 * x[0] , 0], [3 * x[0]**2, -1]])\n",
    "\n",
    "x = newtons_ndim_with_backtracking(f, np.full(2, 1.5), f_prime, α = 0.5, maxiters=100)\n",
    "print(f'x = {x[0]}\\nconverged: {x[1]}\\nnumber of iterations: {x[2]}')\n",
    "print(f'f(x) = {f(x[0])}')"
   ]
  },
  {
   "cell_type": "markdown",
   "metadata": {},
   "source": [
    "# Problem 6"
   ]
  },
  {
   "cell_type": "code",
   "execution_count": 184,
   "metadata": {},
   "outputs": [],
   "source": [
    "def bioremediation():\n",
    "    γ, δ = 5, 1\n",
    "    \n",
    "    # function and jacobian\n",
    "    def f(vec): \n",
    "        x, y = vec\n",
    "        return np.array([γ * x * y - x * (1 + y), - x * y + (δ - y) * (1 + y)])\n",
    "    def Df(vec): \n",
    "        x, y = vec\n",
    "        return np.array([[γ * y - (1 + y), γ * x - x], [-y, -x + (δ - y - (1 + y))]])\n",
    "    \n",
    "    # space of potential x,y values\n",
    "    x_grid = np.linspace(-0.25, 0, 100)\n",
    "    y_grid = np.linspace(0, 0.25, 100)\n",
    "    \n",
    "    # solutions and αs\n",
    "    result_1 = np.array([3.75, 0.25])\n",
    "    result_2 = np.array([0, 1])\n",
    "    α_1 = 0.55\n",
    "    α_2 = 1\n",
    "    \n",
    "    # iterate over possible values of x_0, y_0\n",
    "    for x in x_grid:\n",
    "        for y in y_grid:\n",
    "            x_start = np.array([x, y])\n",
    "            \n",
    "            # get solutions for each value of α\n",
    "            x_vec_1, converged_1 = newtons_ndim_with_backtracking(f, x_start, Df, α_1, maxiters=50)[:-1]\n",
    "            x_vec_2, converged_2 = newtons_ndim_with_backtracking(f, x_start, Df, α_2, maxiters=50)[:-1]\n",
    "            \n",
    "            # check 4 conditions: algorthim converges for each call and solution vectors\n",
    "            # are approximately equal to expected results\n",
    "            if converged_1 and converged_2 and np.allclose(np.abs(x_vec_1), \n",
    "                            np.abs(result_1)) and np.allclose(np.abs(x_vec_2), np.abs(result_2)):\n",
    "                return np.array([x, y])"
   ]
  },
  {
   "cell_type": "code",
   "execution_count": 185,
   "metadata": {},
   "outputs": [
    {
     "name": "stdout",
     "output_type": "stream",
     "text": [
      "initial point: [-0.25       0.1969697]\n"
     ]
    }
   ],
   "source": [
    "x_0 = bioremediation()\n",
    "print(f'initial point: {x_0}')"
   ]
  },
  {
   "cell_type": "markdown",
   "metadata": {},
   "source": [
    "# Problem 7"
   ]
  },
  {
   "cell_type": "code",
   "execution_count": 186,
   "metadata": {},
   "outputs": [],
   "source": [
    "def basin(f, f_prime, zeros, bounds, res, iters):\n",
    "    r_min, r_max, i_min, i_max = bounds\n",
    "    \n",
    "    # set domain of X\n",
    "    a = np.linspace(r_min, r_max, res)\n",
    "    b = np.linspace(i_min, i_max, res)\n",
    "    X_re, X_im = np.meshgrid(a, b)\n",
    "    X_0 = X_re + 1j * X_im\n",
    "    \n",
    "    # perform Newton's method\n",
    "    for i in range(iters):\n",
    "        X = X_0 - α * (f(X_0) / f_prime(X_0))\n",
    "        X_0 = X\n",
    "    \n",
    "    Y = np.empty_like(X_0, dtype=int)\n",
    "    for i in range(res):\n",
    "        for j in range(res):\n",
    "            Y[i, j] = np.argmin(np.abs(zeros - X[i, j]))\n",
    "    \n",
    "    plt.pcolormesh(X_re, X_im, Y, cmap='brg')\n",
    "    plt.show()"
   ]
  },
  {
   "cell_type": "code",
   "execution_count": 187,
   "metadata": {},
   "outputs": [
    {
     "data": {
      "image/png": "[encoded data removed]",
      "text/plain": [
       "<matplotlib.figure.Figure at 0x15179600b8>"
      ]
     },
     "metadata": {},
     "output_type": "display_data"
    }
   ],
   "source": [
    "f = lambda x: x ** 3 - 1\n",
    "f_prime = lambda x: 3 * x ** 2\n",
    "zeros = np.array([1., (-1. / 2) + (np.sqrt(3) / 2) * 1j, (-1. / 2) - (np.sqrt(3) / 2) * 1j])\n",
    "basin(f, f_prime, zeros, [-1.5, 1.5, -1.5, 1.5], 500, 50)"
   ]
  },
  {
   "cell_type": "code",
   "execution_count": 188,
   "metadata": {},
   "outputs": [
    {
     "data": {
      "image/png": "[encoded data removed]",
      "text/plain": [
       "<matplotlib.figure.Figure at 0x15179602e8>"
      ]
     },
     "metadata": {},
     "output_type": "display_data"
    }
   ],
   "source": [
    "f = lambda x: x ** 3 - x\n",
    "f_prime = lambda x: 3 * x ** 2 - 1\n",
    "zeros = np.array([-1, 0, 1])\n",
    "basin(f, f_prime, zeros, [-1.5, 1.5, -1.5, 1.5], 500, 50)"
   ]
  },
  {
   "cell_type": "code",
   "execution_count": null,
   "metadata": {},
   "outputs": [],
   "source": []
  }
 ],
 "metadata": {
  "kernelspec": {
   "display_name": "Python 3",
   "language": "python",
   "name": "python3"
  },
  "language_info": {
   "codemirror_mode": {
    "name": "ipython",
    "version": 3
   },
   "file_extension": ".py",
   "mimetype": "text/x-python",
   "name": "python",
   "nbconvert_exporter": "python",
   "pygments_lexer": "ipython3",
   "version": "3.6.4"
  }
 },
 "nbformat": 4,
 "nbformat_minor": 2
}
