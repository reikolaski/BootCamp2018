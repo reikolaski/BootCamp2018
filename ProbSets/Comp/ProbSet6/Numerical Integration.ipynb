{
 "cells": [
  {
   "cell_type": "markdown",
   "metadata": {},
   "source": [
    "# Exercise 14.1"
   ]
  },
  {
   "cell_type": "code",
   "execution_count": 3,
   "metadata": {},
   "outputs": [],
   "source": [
    "import numpy as np\n",
    "import sympy as sy"
   ]
  },
  {
   "cell_type": "code",
   "execution_count": 4,
   "metadata": {},
   "outputs": [],
   "source": [
    "def Newton_Cotes(g, a, b, N, method):\n",
    "    if method == 'midpoint':\n",
    "        x = np.array([a + (2 * i + 1) * (b - a) / (2 * N) for i in range(N)])\n",
    "        return ((b - a) / N) * np.sum(g(x))\n",
    "    elif method == 'trapezoid':\n",
    "        x = np.array([a + i * (b - a) / N for i in range(N+1)])\n",
    "        return ((b - a) / (2 * N)) * (g(x[0]) + 2 * np.sum(g(x[1:-1])) + g(x[N]))\n",
    "    elif method == 'Simpsons':\n",
    "        x = np.array([a + i * (b - a) / (2 * N) for i in range(2*N+1)])\n",
    "        g_odd = g(x[1:(2*N):2])\n",
    "        g_even = g(x[2:(2*N-1):2])\n",
    "        return ((b - a) / (3 * (2 * N + 1))) * (g(x[0]) + 4 * np.sum(g_odd) \n",
    "                                            + 2 * np.sum(g_even) + g(x[2*N]))"
   ]
  },
  {
   "cell_type": "code",
   "execution_count": 5,
   "metadata": {},
   "outputs": [],
   "source": [
    "g = lambda x: 0.1 * x ** 4 - 1.5 * x ** 3 + 0.53 * x ** 2 + 2 * x + 1\n",
    "a = -10\n",
    "b = 10\n",
    "N = 100\n",
    "\n",
    "midpoint = Newton_Cotes(g, a, b, N, 'midpoint')\n",
    "trapezoid = Newton_Cotes(g, a, b, N, 'trapezoid')\n",
    "Simpsons = Newton_Cotes(g, a, b, N, 'Simpsons')"
   ]
  },
  {
   "cell_type": "code",
   "execution_count": 6,
   "metadata": {},
   "outputs": [
    {
     "name": "stdout",
     "output_type": "stream",
     "text": [
      "4371.96476 4376.070559999999 4351.5754825870645\n"
     ]
    }
   ],
   "source": [
    "print(midpoint, trapezoid, Simpsons)"
   ]
  },
  {
   "cell_type": "markdown",
   "metadata": {},
   "source": [
    "# Exercise 14.2"
   ]
  },
  {
   "cell_type": "code",
   "execution_count": 7,
   "metadata": {},
   "outputs": [],
   "source": [
    "from scipy.stats import norm"
   ]
  },
  {
   "cell_type": "code",
   "execution_count": 8,
   "metadata": {},
   "outputs": [],
   "source": [
    "def normal_dist(μ, σ, N, k):\n",
    "    Z = np.linspace(μ - k * σ, μ + k * σ, N)\n",
    "    w = np.empty_like(Z)\n",
    "    w[0] = norm.cdf((Z[0] + Z[1]) / 2, loc=μ, scale=σ)\n",
    "    w[N - 1] = 1 - norm.cdf((Z[N - 1] + Z[N - 2]) / 2, loc=μ, scale=σ)\n",
    "    for i in range(1, N - 1):\n",
    "        Z_min = ((Z[i - 1] + Z[i]) / 2)\n",
    "        Z_max = ((Z[i + 1] + Z[i]) / 2)\n",
    "        w[i] = norm.cdf(Z_max, loc=μ, scale=σ) - norm.cdf(Z_min, loc=μ, scale=σ)\n",
    "    return w, Z"
   ]
  },
  {
   "cell_type": "code",
   "execution_count": 9,
   "metadata": {},
   "outputs": [
    {
     "name": "stdout",
     "output_type": "stream",
     "text": [
      "[0.00346697 0.01439745 0.04894278 0.11725292 0.19802845 0.23582284\n",
      " 0.19802845 0.11725292 0.04894278 0.01439745 0.00346697]\n",
      "[-3.  -2.4 -1.8 -1.2 -0.6  0.   0.6  1.2  1.8  2.4  3. ]\n"
     ]
    }
   ],
   "source": [
    "w, Z = normal_dist(0, 1, 11, 3)\n",
    "print(w)\n",
    "print(Z)"
   ]
  },
  {
   "cell_type": "markdown",
   "metadata": {},
   "source": [
    "# Exercise 14.3"
   ]
  },
  {
   "cell_type": "code",
   "execution_count": 10,
   "metadata": {},
   "outputs": [],
   "source": [
    "def lognormal_dist(μ, σ, N, k):\n",
    "    w, logA = normal_dist(μ, σ, N, k)\n",
    "    A = np.exp(logA)\n",
    "    return w, A"
   ]
  },
  {
   "cell_type": "code",
   "execution_count": 11,
   "metadata": {},
   "outputs": [
    {
     "name": "stdout",
     "output_type": "stream",
     "text": [
      "[0.00346697 0.01439745 0.04894278 0.11725292 0.19802845 0.23582284\n",
      " 0.19802845 0.11725292 0.04894278 0.01439745 0.00346697]\n",
      "[ 0.04978707  0.09071795  0.16529889  0.30119421  0.54881164  1.\n",
      "  1.8221188   3.32011692  6.04964746 11.02317638 20.08553692]\n"
     ]
    }
   ],
   "source": [
    "w, A = lognormal_dist(0, 1, 11, 3)\n",
    "print(w)\n",
    "print(A)"
   ]
  },
  {
   "cell_type": "markdown",
   "metadata": {},
   "source": [
    "# Exercise 14.4"
   ]
  },
  {
   "cell_type": "code",
   "execution_count": 12,
   "metadata": {},
   "outputs": [
    {
     "data": {
      "text/plain": [
       "50009.69075006097"
      ]
     },
     "execution_count": 12,
     "metadata": {},
     "output_type": "execute_result"
    }
   ],
   "source": [
    "μ = 10.5\n",
    "σ = 0.8\n",
    "w, A = lognormal_dist(μ, σ, 19, 3)\n",
    "np.sum(w * A)"
   ]
  },
  {
   "cell_type": "code",
   "execution_count": 13,
   "metadata": {},
   "outputs": [
    {
     "data": {
      "text/plain": [
       "50011.087008521754"
      ]
     },
     "execution_count": 13,
     "metadata": {},
     "output_type": "execute_result"
    }
   ],
   "source": [
    "np.exp(μ + σ ** 2 / 2)"
   ]
  },
  {
   "cell_type": "markdown",
   "metadata": {},
   "source": [
    "# Exercise 14.5"
   ]
  },
  {
   "cell_type": "code",
   "execution_count": 14,
   "metadata": {},
   "outputs": [],
   "source": [
    "from scipy.optimize import root"
   ]
  },
  {
   "cell_type": "code",
   "execution_count": 15,
   "metadata": {},
   "outputs": [],
   "source": [
    "g = lambda x: 0.1 * x ** 4 - 1.5 * x ** 3 + 0.53 * x ** 2 + 2 * x + 1\n",
    "a = -10\n",
    "b = 10\n",
    "N = 100"
   ]
  },
  {
   "cell_type": "code",
   "execution_count": 16,
   "metadata": {},
   "outputs": [],
   "source": [
    "def gaussian_quad(params):\n",
    "    a = -10\n",
    "    b = 10\n",
    "    w1, w2, w3, x1, x2, x3 = params\n",
    "    w = np.array([w1, w2, w3])\n",
    "    x = np.array([x1, x2, x3])\n",
    "    equations = np.empty(6)\n",
    "    for n in range(1, 7):\n",
    "        equations[n - 1] = (b ** n - a ** n) / n - w @ (x ** (n - 1))\n",
    "    return equations"
   ]
  },
  {
   "cell_type": "code",
   "execution_count": 17,
   "metadata": {},
   "outputs": [],
   "source": [
    "optimal = root(gaussian_quad, np.ones(6))\n",
    "w = optimal.x[:3]\n",
    "x = optimal.x[3:]"
   ]
  },
  {
   "cell_type": "code",
   "execution_count": 18,
   "metadata": {},
   "outputs": [
    {
     "data": {
      "text/plain": [
       "4373.333333340381"
      ]
     },
     "execution_count": 18,
     "metadata": {},
     "output_type": "execute_result"
    }
   ],
   "source": [
    "np.sum(w * g(x))"
   ]
  },
  {
   "cell_type": "markdown",
   "metadata": {},
   "source": [
    "# Exercise 14.6"
   ]
  },
  {
   "cell_type": "code",
   "execution_count": 19,
   "metadata": {},
   "outputs": [],
   "source": [
    "from scipy.integrate import quad"
   ]
  },
  {
   "cell_type": "code",
   "execution_count": 20,
   "metadata": {},
   "outputs": [
    {
     "data": {
      "text/plain": [
       "4373.333333333334"
      ]
     },
     "execution_count": 20,
     "metadata": {},
     "output_type": "execute_result"
    }
   ],
   "source": [
    "quad(g, a, b)[0]"
   ]
  },
  {
   "cell_type": "markdown",
   "metadata": {},
   "source": [
    "# Exercise 14.7"
   ]
  },
  {
   "cell_type": "code",
   "execution_count": 21,
   "metadata": {},
   "outputs": [],
   "source": [
    "def monte_carlo(g, Ω, N):\n",
    "    x_min, x_max = Ω\n",
    "    x = np.random.uniform(x_min, x_max, (2, N))\n",
    "    return (4 / N) * np.sum(g(x[0], x[1]))"
   ]
  },
  {
   "cell_type": "code",
   "execution_count": 22,
   "metadata": {},
   "outputs": [],
   "source": [
    "g = lambda x, y: np.sum(x ** 2 + y ** 2 <= 1)"
   ]
  },
  {
   "cell_type": "code",
   "execution_count": 23,
   "metadata": {},
   "outputs": [
    {
     "data": {
      "text/plain": [
       "3.1422079999999997"
      ]
     },
     "execution_count": 23,
     "metadata": {},
     "output_type": "execute_result"
    }
   ],
   "source": [
    "Ω = np.array([-1, 1])\n",
    "monte_carlo(g, Ω, 1000000)"
   ]
  },
  {
   "cell_type": "markdown",
   "metadata": {},
   "source": [
    "# Exercise 14.8"
   ]
  },
  {
   "cell_type": "code",
   "execution_count": 24,
   "metadata": {},
   "outputs": [],
   "source": [
    "from matplotlib import pyplot as plt"
   ]
  },
  {
   "cell_type": "code",
   "execution_count": 25,
   "metadata": {},
   "outputs": [],
   "source": [
    "def d_primes(d):\n",
    "    primes = []\n",
    "    n = 2\n",
    "    while (len(primes) < d):\n",
    "        not_prime = [n for p in primes if n%p == 0]\n",
    "        if not not_prime:\n",
    "            primes += [n]\n",
    "        n += 1\n",
    "    return primes"
   ]
  },
  {
   "cell_type": "code",
   "execution_count": 26,
   "metadata": {},
   "outputs": [
    {
     "data": {
      "text/plain": [
       "[2, 3, 5, 7, 11, 13, 17, 19, 23, 29]"
      ]
     },
     "execution_count": 26,
     "metadata": {},
     "output_type": "execute_result"
    }
   ],
   "source": [
    "d_primes(10)"
   ]
  },
  {
   "cell_type": "code",
   "execution_count": 42,
   "metadata": {},
   "outputs": [],
   "source": [
    "def equidistributed_sequence(N, d, method):\n",
    "    primes = np.array(d_primes(d))\n",
    "    n = np.arange(N)\n",
    "    s = np.arange(d)\n",
    "    if method == \"weyl\":\n",
    "        return np.outer(n, primes ** (1/2)) % 1\n",
    "    elif method == \"haber\":\n",
    "        return np.outer(n * (n + 1) / 2, primes ** (1/2)) % 1\n",
    "    elif method == \"niederreiter\":\n",
    "        return np.outer(n * 2 ** (1/(n+1)), 2 ** (s / (n+1))) % 1\n",
    "    elif method == \"baker\":\n",
    "#         r = np.arange(N * d)\n",
    "#         return np.outer(n, np.exp())\n",
    "        return"
   ]
  },
  {
   "cell_type": "code",
   "execution_count": 44,
   "metadata": {},
   "outputs": [],
   "source": [
    "x = equidistributed_sequence(1000, 2, 'weyl')"
   ]
  },
  {
   "cell_type": "code",
   "execution_count": 35,
   "metadata": {},
   "outputs": [
    {
     "data": {
      "image/png": "[encoded data removed]",
      "text/plain": [
       "<matplotlib.figure.Figure at 0x1a12c26cc0>"
      ]
     },
     "metadata": {},
     "output_type": "display_data"
    }
   ],
   "source": [
    "plt.scatter(x[:, 0], x[:, 1])\n",
    "plt.show()"
   ]
  },
  {
   "cell_type": "markdown",
   "metadata": {},
   "source": [
    "# Exercise 14.9"
   ]
  },
  {
   "cell_type": "code",
   "execution_count": 31,
   "metadata": {},
   "outputs": [],
   "source": [
    "def quasi_monte_carlo(g, N):\n",
    "    x = equidistributed_sequence(N, 2, 'weyl')\n",
    "    x = 2 * x - 1\n",
    "    return (4 / N) * np.sum(g(x[:, 0], x[:, 1]))"
   ]
  },
  {
   "cell_type": "code",
   "execution_count": 32,
   "metadata": {},
   "outputs": [
    {
     "data": {
      "text/plain": [
       "3.141364"
      ]
     },
     "execution_count": 32,
     "metadata": {},
     "output_type": "execute_result"
    }
   ],
   "source": [
    "quasi_monte_carlo(g, 1000000)"
   ]
  },
  {
   "cell_type": "code",
   "execution_count": null,
   "metadata": {},
   "outputs": [],
   "source": []
  }
 ],
 "metadata": {
  "kernelspec": {
   "display_name": "Python 3",
   "language": "python",
   "name": "python3"
  },
  "language_info": {
   "codemirror_mode": {
    "name": "ipython",
    "version": 3
   },
   "file_extension": ".py",
   "mimetype": "text/x-python",
   "name": "python",
   "nbconvert_exporter": "python",
   "pygments_lexer": "ipython3",
   "version": "3.6.4"
  }
 },
 "nbformat": 4,
 "nbformat_minor": 2
}
