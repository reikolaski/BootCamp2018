{
 "cells": [
  {
   "cell_type": "code",
   "execution_count": 1,
   "metadata": {},
   "outputs": [],
   "source": [
    "import numpy as np"
   ]
  },
  {
   "cell_type": "markdown",
   "metadata": {},
   "source": [
    "# Problems 1-6"
   ]
  },
  {
   "cell_type": "code",
   "execution_count": 372,
   "metadata": {},
   "outputs": [],
   "source": [
    "class LinearOpimization:\n",
    "    \n",
    "    def __init__(self, c, A, b):\n",
    "        self.c = c\n",
    "        self.A = A\n",
    "        self.b = b\n",
    "        if np.any(self.A @ np.zeros(len(self.c)) > self.b):\n",
    "            raise ValueError(\"Not feasible at the origin\")\n",
    "        self.m = len(self.b)\n",
    "        self.n = len(self.c)\n",
    "        basic = np.arange(self.n, self.n + self.m)\n",
    "        nonbasic = np.arange(0, self.n)\n",
    "        self.L = np.concatenate((basic, nonbasic))\n",
    "        self.basic = self.L[:self.m]\n",
    "        self.nonbasic = self.L[self.m:]\n",
    "        self.T = self.initial_tableau()\n",
    "        \n",
    "    def initial_tableau(self):\n",
    "        c_bar = np.hstack((self.c, np.zeros(self.m)))\n",
    "        A_bar = np.hstack((self.A, np.identity(self.m)))\n",
    "        T_top = np.hstack((0, -1 * c_bar, 1))\n",
    "        T_bottom = np.column_stack((self.b, A_bar, np.zeros(self.m)))\n",
    "        return np.vstack((T_top, T_bottom))\n",
    "    \n",
    "    def pivot_ij(self):\n",
    "        j = np.argwhere(self.T[0, 1:-1] < 0)[0][0] + 1\n",
    "        col_j = self.T[1:, j].copy()\n",
    "        if np.all(col_j <= 0):\n",
    "            raise ValueError(\"The problem is unbounded.\")\n",
    "        non_pos = col_j <= 0\n",
    "        col_0 = self.T[1:, 0].copy()\n",
    "        col_j[non_pos] = np.nan\n",
    "        i = np.nanargmin(col_0 / col_j) + 1\n",
    "        return i, j\n",
    "    \n",
    "    def pivot(self):\n",
    "        i, j = self.pivot_ij()\n",
    "        temp = self.L[i-1]\n",
    "        self.L[i - 1] = self.L[self.m + j - 1]\n",
    "        self.L[self.m + j - 1] = temp\n",
    "        \n",
    "        self.T[i] /= self.T[i, j]\n",
    "        row_i = self.T[i]\n",
    "        for k, row in enumerate(self.T):\n",
    "            if k == i:\n",
    "                pass\n",
    "            else:\n",
    "                mult = -row[j]\n",
    "                self.T[k] = row_i * mult + row\n",
    "                \n",
    "    def solve(self):\n",
    "        while np.any(self.T[0] < 0):\n",
    "            self.pivot()\n",
    "        basic_dict = {self.basic[i]: round(self.T[i+1, 0], 2) for i in range(self.m)}\n",
    "        nonbasic_dict = {self.nonbasic[i]: 0 for i in range(self.n)}\n",
    "        return self.T[0, 0], basic_dict, nonbasic_dict\n",
    "            "
   ]
  },
  {
   "cell_type": "code",
   "execution_count": 373,
   "metadata": {},
   "outputs": [],
   "source": [
    "c = np.array([3, 2])\n",
    "A = np.array([[1, -1], [3, 1], [4, 3]])\n",
    "b = np.array([2, 5, 7])\n",
    "opt = LinearOpimization(c, A, b)"
   ]
  },
  {
   "cell_type": "code",
   "execution_count": 374,
   "metadata": {},
   "outputs": [
    {
     "data": {
      "text/plain": [
       "(5.2, {0: 1.6, 1: 0.2, 2: 0.6}, {3: 0, 4: 0})"
      ]
     },
     "execution_count": 374,
     "metadata": {},
     "output_type": "execute_result"
    }
   ],
   "source": [
    "opt.solve()"
   ]
  },
  {
   "cell_type": "markdown",
   "metadata": {},
   "source": [
    "# Problem 7"
   ]
  },
  {
   "cell_type": "code",
   "execution_count": 382,
   "metadata": {},
   "outputs": [],
   "source": [
    "data = np.load('productMix.npz')"
   ]
  },
  {
   "cell_type": "code",
   "execution_count": 383,
   "metadata": {},
   "outputs": [],
   "source": [
    "A = data['A']\n",
    "p = data['p']\n",
    "m = data['m']\n",
    "d = data['d']"
   ]
  },
  {
   "cell_type": "code",
   "execution_count": 384,
   "metadata": {},
   "outputs": [],
   "source": [
    "A = np.vstack((A, np.identity(len(p))))\n",
    "b = np.hstack((m, d))"
   ]
  },
  {
   "cell_type": "code",
   "execution_count": 385,
   "metadata": {},
   "outputs": [
    {
     "data": {
      "text/plain": [
       "(7453.596491228071,\n",
       " {0: 10.0, 1: 6.19, 2: 12.0, 3: 1.79, 6: 0.97, 8: 13.81, 10: 8.21},\n",
       " {4: 0, 5: 0, 7: 0, 9: 0})"
      ]
     },
     "execution_count": 385,
     "metadata": {},
     "output_type": "execute_result"
    }
   ],
   "source": [
    "LinearOpimization(p, A, b).solve()"
   ]
  },
  {
   "cell_type": "code",
   "execution_count": null,
   "metadata": {},
   "outputs": [],
   "source": []
  }
 ],
 "metadata": {
  "kernelspec": {
   "display_name": "Python 3",
   "language": "python",
   "name": "python3"
  },
  "language_info": {
   "codemirror_mode": {
    "name": "ipython",
    "version": 3
   },
   "file_extension": ".py",
   "mimetype": "text/x-python",
   "name": "python",
   "nbconvert_exporter": "python",
   "pygments_lexer": "ipython3",
   "version": "3.6.4"
  }
 },
 "nbformat": 4,
 "nbformat_minor": 2
}
