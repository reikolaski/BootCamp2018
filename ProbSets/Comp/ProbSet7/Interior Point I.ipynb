{
 "cells": [
  {
   "cell_type": "code",
   "execution_count": 2,
   "metadata": {},
   "outputs": [],
   "source": [
    "import numpy as np\n",
    "from scipy import linalg as la"
   ]
  },
  {
   "cell_type": "markdown",
   "metadata": {},
   "source": [
    "# Exercise 1-4"
   ]
  },
  {
   "cell_type": "code",
   "execution_count": 352,
   "metadata": {},
   "outputs": [],
   "source": [
    "def interiorPoint(A, b, c, niter=20, tol=1e-16):\n",
    "    \n",
    "    n = len(c)  # length of x, c, μ\n",
    "    m = len(b)  # length of b, λ\n",
    "    \n",
    "    def F(x, λ, μ):\n",
    "        M = μ * np.identity(n)\n",
    "        top = np.array(A.T @ λ + μ - c)\n",
    "        middle = np.array(A @ x - b)\n",
    "        bottom = np.array(M @ x)\n",
    "        return np.concatenate((top, middle, bottom))\n",
    "    \n",
    "    σ = 1 / 10\n",
    "    \n",
    "    DF_top = np.hstack((np.zeros((n, n)), A.T, np.identity(n)))\n",
    "    DF_middle = np.hstack((A, np.zeros((m, m + n))))\n",
    "    \n",
    "    def DF(M, X):\n",
    "        DF_bottom = np.hstack((M, np.zeros((n, m)), X))\n",
    "        return np.vstack((DF_top, DF_middle, DF_bottom))\n",
    "    \n",
    "    it = 0\n",
    "    dist = 100\n",
    "    x, λ, μ = starting_point(A, b, c)\n",
    "    while dist > tol and it < niter:\n",
    "        ν = (x @ μ) / n\n",
    "        e = np.ones(n)\n",
    "        M = μ * np.identity(n)\n",
    "        X = x * np.identity(n)\n",
    "        \n",
    "        RHS = -F(x, λ, μ) + np.concatenate((np.zeros(n + m), σ * ν * e))\n",
    "        lu, piv = la.lu_factor(DF(M, X))\n",
    "        result = la.lu_solve((lu, piv), RHS)\n",
    "        Δx = result[:n]\n",
    "        Δλ = result[n:m+n]\n",
    "        Δμ = result[m+n:]\n",
    "\n",
    "        α_max = np.min([np.min(-μ[Δμ < 0] / Δμ[Δμ < 0]), 1.0])\n",
    "        δ_max = np.min([np.min(-x[Δx < 0] / Δx[Δx < 0]), 1.0])\n",
    "\n",
    "        α = np.min([1, 0.95 * α_max])\n",
    "        δ = np.min([1, 0.95 * δ_max])\n",
    "        x_next = x + δ * Δx\n",
    "        λ = λ + α * Δλ\n",
    "        μ = μ + α * Δμ\n",
    "        \n",
    "        dist = la.norm(x_next - x)\n",
    "        x = x_next\n",
    "        it += 1\n",
    "    return x, c @ x"
   ]
  },
  {
   "cell_type": "code",
   "execution_count": 353,
   "metadata": {},
   "outputs": [],
   "source": [
    "def starting_point(A, b, c):\n",
    "    \"\"\"Calculate an initial guess to the solution of the linear program\n",
    "    min c\\trp  x, Ax = b, x>=0.\n",
    "    Reference: Nocedal and Wright, p. 410.\n",
    "    \"\"\"\n",
    "    # Calculate x, λ, μ of minimal norm satisfying both\n",
    "    # the primal and dual constraints.\n",
    "    B = la.inv(A @ A.T)\n",
    "    x = A.T @ B @ b\n",
    "    λ = B @ A @ c\n",
    "    μ = c - (A.T @ λ)\n",
    "    # Perturb x and s so they are nonnegative.\n",
    "    dx = max((-3. / 2)* x.min(), 0)\n",
    "    dμ = max((-3. / 2) * μ.min(), 0)\n",
    "    x += dx * np.ones_like(x)\n",
    "    μ += dμ * np.ones_like(μ)\n",
    "    # Perturb x and μ so they are not too small and not too dissimilar.\n",
    "    dx = .5 * (x * μ).sum() / μ.sum()\n",
    "    dμ = .5 * (x * μ).sum() / x.sum()\n",
    "    x += dx * np.ones_like(x)\n",
    "    μ += dμ * np.ones_like(μ)\n",
    "    return x, λ, μ"
   ]
  },
  {
   "cell_type": "code",
   "execution_count": 354,
   "metadata": {},
   "outputs": [],
   "source": [
    "def randomLP(m, n):\n",
    "    \"\"\"Generate a linear program min c\\trp  x s.t. Ax = b, x>=0.\n",
    "    First generate m feasible constraints, then add\n",
    "    slack variables to convert it into the above form.\n",
    "    Inputs:\n",
    "        m (int >= n): number of desired constraints.\n",
    "        n (int): dimension of space in which to optimize.\n",
    "    Outputs:\n",
    "        A ((m,n+m) ndarray): Constraint matrix.\n",
    "        b ((m,) ndarray): Constraint vector.\n",
    "        c ((n+m,), ndarray): Objective function with m trailing 0s.\n",
    "        x ((n,) ndarray): The first 'n' terms of the solution to the LP.\n",
    "    \"\"\"\n",
    "    A = np.random.random((m,n))*20 - 10\n",
    "    A[A[:,-1]<0] *= -1\n",
    "    x = np.random.random(n)*10\n",
    "    b = np.zeros(m)\n",
    "    b[:n] = A[:n,:] @ x\n",
    "    b[n:] = A[n:,:] @ x + np.random.random(m-n)*10\n",
    "    c = np.zeros(n+m)\n",
    "    c[:n] = A[:n,:].sum(axis=0)/n\n",
    "    A = np.hstack((A, np.eye(m)))\n",
    "    return A, b, -c, x"
   ]
  },
  {
   "cell_type": "code",
   "execution_count": 355,
   "metadata": {},
   "outputs": [],
   "source": [
    "m, n = 7, 5\n",
    "A, b, c, x = randomLP(m, n)\n",
    "point, value = interiorPoint(A, b, c)"
   ]
  },
  {
   "cell_type": "code",
   "execution_count": 356,
   "metadata": {},
   "outputs": [
    {
     "name": "stdout",
     "output_type": "stream",
     "text": [
      "x: [4.8660897  4.76614311 5.54780724 3.9265567  2.26702285] \n",
      "Solution: [4.8660897  4.76614311 5.54780724 3.9265567  2.26702285]\n"
     ]
    }
   ],
   "source": [
    "print(\"x:\", x, \"\\nSolution:\", point[:n])"
   ]
  },
  {
   "cell_type": "code",
   "execution_count": 357,
   "metadata": {},
   "outputs": [
    {
     "data": {
      "text/plain": [
       "True"
      ]
     },
     "execution_count": 357,
     "metadata": {},
     "output_type": "execute_result"
    }
   ],
   "source": [
    "np.allclose(x, point[:n])"
   ]
  },
  {
   "cell_type": "code",
   "execution_count": 358,
   "metadata": {},
   "outputs": [
    {
     "name": "stdout",
     "output_type": "stream",
     "text": [
      "Value: -33.04960374635292 \n",
      "Solution value: -33.04960374635292\n"
     ]
    }
   ],
   "source": [
    "print(\"Value:\", c[:n] @ x, \"\\nSolution value:\", value)"
   ]
  },
  {
   "cell_type": "code",
   "execution_count": 359,
   "metadata": {},
   "outputs": [
    {
     "data": {
      "text/plain": [
       "True"
      ]
     },
     "execution_count": 359,
     "metadata": {},
     "output_type": "execute_result"
    }
   ],
   "source": [
    "np.allclose(c[:n] @ x, value)"
   ]
  },
  {
   "cell_type": "markdown",
   "metadata": {},
   "source": [
    "# Exercise 5"
   ]
  },
  {
   "cell_type": "code",
   "execution_count": 310,
   "metadata": {},
   "outputs": [],
   "source": [
    "simdata = np.loadtxt(\"simdata.txt\")"
   ]
  },
  {
   "cell_type": "code",
   "execution_count": 311,
   "metadata": {},
   "outputs": [
    {
     "data": {
      "text/plain": [
       "array([[39.22166889,  0.33994899],\n",
       "       [36.77516506,  0.91801125],\n",
       "       [21.7168137 ,  0.94267081],\n",
       "       [33.94802972,  1.19618335],\n",
       "       [23.10127361,  1.81574744],\n",
       "       [30.39111645,  2.34383565],\n",
       "       [30.8560133 ,  2.37090545],\n",
       "       [29.98288939,  2.45355553],\n",
       "       [30.15483543,  2.61394645],\n",
       "       [24.04689978,  3.71804098],\n",
       "       [23.67297828,  3.94392332],\n",
       "       [24.08635478,  4.08453521],\n",
       "       [19.2267982 ,  5.3492233 ],\n",
       "       [18.46270771,  5.464175  ],\n",
       "       [15.81407537,  5.57897281],\n",
       "       [17.46656624,  5.58047072],\n",
       "       [19.1146746 ,  5.62377167],\n",
       "       [14.36968471,  6.52048436],\n",
       "       [ 9.95033449,  6.96880179],\n",
       "       [ 9.52403274,  7.86391972],\n",
       "       [ 7.29231171,  8.22808448],\n",
       "       [ 6.64322922,  8.46952999],\n",
       "       [ 3.66183831,  8.98590661],\n",
       "       [12.91276383,  9.06404501],\n",
       "       [15.64864908,  9.63632793]])"
      ]
     },
     "execution_count": 311,
     "metadata": {},
     "output_type": "execute_result"
    }
   ],
   "source": [
    "simdata"
   ]
  },
  {
   "cell_type": "code",
   "execution_count": 312,
   "metadata": {},
   "outputs": [],
   "source": [
    "m = simdata.shape[0]\n",
    "n = simdata.shape[1] - 1"
   ]
  },
  {
   "cell_type": "code",
   "execution_count": 313,
   "metadata": {},
   "outputs": [],
   "source": [
    "c = np.zeros(3*m + 2*(n + 1))\n",
    "c[:m] = 1\n",
    "y = np.empty(2*m)\n",
    "y[::2] = -simdata[:, 0]\n",
    "y[1::2] = simdata[:, 0]\n",
    "x = simdata[:, 1:]"
   ]
  },
  {
   "cell_type": "code",
   "execution_count": 314,
   "metadata": {},
   "outputs": [],
   "source": [
    "A = np.ones((2*m, 3*m + 2*(n + 1)))\n",
    "A[::2, :m] = np.eye(m)\n",
    "A[1::2, :m] = np.eye(m)\n",
    "A[::2, m:m+n] = -x\n",
    "A[1::2, m:m+n] = x\n",
    "A[::2, m+n:m+2*n] = x\n",
    "A[1::2, m+n:m+2*n] = -x\n",
    "A[::2, m+2*n] = -1\n",
    "A[1::2, m+2*n+1] = -1\n",
    "A[:, m+2*n+2:] = -np.eye(2*m, 2*m)"
   ]
  },
  {
   "cell_type": "code",
   "execution_count": 315,
   "metadata": {},
   "outputs": [],
   "source": [
    "sol = interiorPoint(A, y, c, niter=10)[0]"
   ]
  },
  {
   "cell_type": "code",
   "execution_count": 316,
   "metadata": {},
   "outputs": [],
   "source": [
    "β = sol[m:m+n] - sol[m+n:m+2*n]\n",
    "b = sol[m+2*n] - sol[m+2*n+1]"
   ]
  },
  {
   "cell_type": "code",
   "execution_count": 317,
   "metadata": {},
   "outputs": [
    {
     "data": {
      "image/png": "[encoded data removed]",
      "text/plain": [
       "<matplotlib.figure.Figure at 0x1a18ed9208>"
      ]
     },
     "metadata": {},
     "output_type": "display_data"
    }
   ],
   "source": [
    "from scipy.stats import linregress\n",
    "from matplotlib import pyplot as plt\n",
    "slope, intercept = linregress(simdata[:,1], simdata[:,0])[:2]\n",
    "domain = np.linspace(0,10,200)\n",
    "plt.plot(domain, domain*slope + intercept)\n",
    "plt.plot(domain, domain*β + b)\n",
    "plt.scatter(simdata[:, 1], simdata[:, 0])\n",
    "plt.show()"
   ]
  },
  {
   "cell_type": "code",
   "execution_count": null,
   "metadata": {},
   "outputs": [],
   "source": []
  },
  {
   "cell_type": "code",
   "execution_count": null,
   "metadata": {},
   "outputs": [],
   "source": []
  }
 ],
 "metadata": {
  "kernelspec": {
   "display_name": "Python 3",
   "language": "python",
   "name": "python3"
  },
  "language_info": {
   "codemirror_mode": {
    "name": "ipython",
    "version": 3
   },
   "file_extension": ".py",
   "mimetype": "text/x-python",
   "name": "python",
   "nbconvert_exporter": "python",
   "pygments_lexer": "ipython3",
   "version": "3.6.4"
  }
 },
 "nbformat": 4,
 "nbformat_minor": 2
}
