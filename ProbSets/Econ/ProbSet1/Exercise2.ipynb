{
 "cells": [
  {
   "cell_type": "markdown",
   "metadata": {},
   "source": [
    "# Exercise 2"
   ]
  },
  {
   "cell_type": "code",
   "execution_count": 3,
   "metadata": {},
   "outputs": [],
   "source": [
    "# Import packages\n",
    "import numpy as np\n",
    "import matplotlib.pyplot as plt\n",
    "from scipy import interpolate\n",
    "from scipy.optimize import fminbound\n",
    "from scipy.stats import lognorm\n",
    "\n",
    "# to print plots inline\n",
    "%matplotlib inline"
   ]
  },
  {
   "cell_type": "code",
   "execution_count": 4,
   "metadata": {},
   "outputs": [],
   "source": [
    "γ = 0.5\n",
    "β = 0.96\n",
    "δ = 0.05\n",
    "α = 0.4\n",
    "σ_z = 0.2"
   ]
  },
  {
   "cell_type": "code",
   "execution_count": 5,
   "metadata": {},
   "outputs": [],
   "source": [
    "def utility(k, kprime, z_expected, γ, α, δ):\n",
    "    C = (1 - δ) * k + z_expected * k ** α - kprime\n",
    "    U = (C ** (1 - γ)) / (1 - γ)\n",
    "    return U"
   ]
  },
  {
   "cell_type": "code",
   "execution_count": 6,
   "metadata": {},
   "outputs": [],
   "source": [
    "'''\n",
    "------------------------------------------------------------------------\n",
    "Create Grid for State Space    \n",
    "------------------------------------------------------------------------\n",
    "lb_k      = scalar, lower bound of capital grid\n",
    "ub_k      = scalar, upper bound of capital grid \n",
    "size_k    = integer, number of grid points in capital state space\n",
    "k_grid    = vector, size_k x 1 vector of capital grid points \n",
    "------------------------------------------------------------------------\n",
    "'''\n",
    "lb_k = 0.4\n",
    "ub_k = 100\n",
    "size_k = 200  # Number of grid points\n",
    "k_grid = np.linspace(lb_k, ub_k, size_k)"
   ]
  },
  {
   "cell_type": "code",
   "execution_count": 17,
   "metadata": {},
   "outputs": [],
   "source": [
    "'''\n",
    "------------------------------------------------------------------------\n",
    "Create grid of current utility values    \n",
    "------------------------------------------------------------------------\n",
    "C        = matrix, current consumption \n",
    "U        = matrix, current period utility value for all possible\n",
    "           choices of k and k'\n",
    "------------------------------------------------------------------------\n",
    "'''\n",
    "N = 10000 # number of random draws\n",
    "z = lognorm.rvs(s=σ_z, size=N)\n",
    "z_expected = z.mean()"
   ]
  },
  {
   "cell_type": "code",
   "execution_count": 18,
   "metadata": {},
   "outputs": [],
   "source": [
    "# write Bellman operator function to help with VFI\n",
    "def bellman_operator(V, k_grid, β, z_expected, γ, α, δ):\n",
    "    '''\n",
    "    The approximate Bellman operator, which computes and returns the\n",
    "    updated value function TV on the grid points.  An array to store\n",
    "    the new set of values TV is optionally supplied (to avoid having to\n",
    "    allocate new arrays at each iteration).  If supplied, any existing data in \n",
    "    Tw will be overwritten.\n",
    "    '''\n",
    "    \n",
    "    # Apply cubic interpolation to V\n",
    "    V_func = interpolate.interp1d(k_grid, V, kind='cubic', fill_value='extrapolate')\n",
    "\n",
    "    # Initialize array for operator and policy function\n",
    "    TV = np.empty_like(V)\n",
    "    optK = np.empty_like(TV)\n",
    "\n",
    "    # == set TV[i] = max_w' { u(w,w') + beta V(w')} == #\n",
    "    for i, k in enumerate(k_grid):\n",
    "        def objective(kprime):\n",
    "            return - utility(k, kprime, z_expected, γ, α, δ) - β * V_func(kprime)\n",
    "        kprime_star = fminbound(objective, 1e-6, k - 1e-6)\n",
    "        optK[i] = kprime_star\n",
    "        TV[i] = - objective(kprime_star)\n",
    "    return TV, optK"
   ]
  },
  {
   "cell_type": "code",
   "execution_count": 19,
   "metadata": {},
   "outputs": [
    {
     "name": "stdout",
     "output_type": "stream",
     "text": [
      "Value function converged after this many iterations: 308\n"
     ]
    }
   ],
   "source": [
    "'''\n",
    "------------------------------------------------------------------------\n",
    "Value Function Iteration    \n",
    "------------------------------------------------------------------------\n",
    "VFtol     = scalar, tolerance required for value function to converge\n",
    "VFdist    = scalar, distance between last two value functions\n",
    "VFmaxiter = integer, maximum number of iterations for value function\n",
    "V         = vector, the value functions at each iteration\n",
    "Vmat      = matrix, the value for each possible combination of w and w'\n",
    "VFiter    = integer, current iteration number\n",
    "V_params  = tuple, contains parameters to pass into Belman operator: beta, sigma\n",
    "TV        = vector, the value function after applying the Bellman operator\n",
    "PF        = vector, indicies of choices of w' for all w \n",
    "VF        = vector, the \"true\" value function\n",
    "------------------------------------------------------------------------\n",
    "'''\n",
    "VFtol = 1e-5\n",
    "VFdist = 7.0 \n",
    "VFmaxiter = 500 \n",
    "V = np.zeros(size_k)#true_VF # initial guess at value function\n",
    "VFiter = 1 \n",
    "while VFdist > VFtol and VFiter < VFmaxiter:\n",
    "    TV, optK = bellman_operator(V, k_grid, β, z_expected, γ, α, δ)\n",
    "    VFdist = (np.absolute(V - TV)).max()  # check distance\n",
    "    V = TV\n",
    "    VFiter += 1\n",
    "\n",
    "if VFiter < VFmaxiter:\n",
    "    print('Value function converged after this many iterations:', VFiter)\n",
    "else:\n",
    "    print('Value function did not converge')            \n",
    "\n",
    "\n",
    "VF = V # solution to the functional equation"
   ]
  },
  {
   "cell_type": "code",
   "execution_count": 20,
   "metadata": {},
   "outputs": [],
   "source": [
    "optC = k_grid * (1 - δ) + z_expected * k_grid ** α - optK"
   ]
  },
  {
   "cell_type": "code",
   "execution_count": 29,
   "metadata": {},
   "outputs": [
    {
     "data": {
      "image/png": "[encoded data removed]",
      "text/plain": [
       "<matplotlib.figure.Figure at 0x10f70e390>"
      ]
     },
     "metadata": {},
     "output_type": "display_data"
    }
   ],
   "source": [
    "# Plot value function \n",
    "plt.figure()\n",
    "plt.plot(k_grid[1:], VF[1:])\n",
    "plt.xlabel('Amount of Capital')\n",
    "plt.ylabel('Value Function')\n",
    "plt.title('Value Function')\n",
    "plt.show()"
   ]
  },
  {
   "cell_type": "code",
   "execution_count": 30,
   "metadata": {},
   "outputs": [
    {
     "data": {
      "image/png": "[encoded data removed]",
      "text/plain": [
       "<matplotlib.figure.Figure at 0x10f949a58>"
      ]
     },
     "metadata": {},
     "output_type": "display_data"
    }
   ],
   "source": [
    "plt.plot(k_grid, optC)\n",
    "plt.xlabel('Consumption')\n",
    "plt.ylabel('Policy Function')\n",
    "plt.title('Policy Function - Consumption')\n",
    "plt.show()"
   ]
  },
  {
   "cell_type": "code",
   "execution_count": 32,
   "metadata": {},
   "outputs": [
    {
     "data": {
      "image/png": "[encoded data removed]",
      "text/plain": [
       "<matplotlib.figure.Figure at 0x10f9687f0>"
      ]
     },
     "metadata": {},
     "output_type": "display_data"
    }
   ],
   "source": [
    "plt.plot(k_grid, optK)\n",
    "plt.xlabel('Capital Next Period')\n",
    "plt.ylabel('Policy Function')\n",
    "plt.title('Policy Function - Capital Next Period')\n",
    "plt.show()"
   ]
  },
  {
   "cell_type": "code",
   "execution_count": null,
   "metadata": {},
   "outputs": [],
   "source": []
  }
 ],
 "metadata": {
  "kernelspec": {
   "display_name": "Python 3",
   "language": "python",
   "name": "python3"
  },
  "language_info": {
   "codemirror_mode": {
    "name": "ipython",
    "version": 3
   },
   "file_extension": ".py",
   "mimetype": "text/x-python",
   "name": "python",
   "nbconvert_exporter": "python",
   "pygments_lexer": "ipython3",
   "version": "3.6.4"
  }
 },
 "nbformat": 4,
 "nbformat_minor": 2
}
