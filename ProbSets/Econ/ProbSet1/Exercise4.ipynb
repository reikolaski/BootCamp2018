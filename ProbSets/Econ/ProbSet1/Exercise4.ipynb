{
 "cells": [
  {
   "cell_type": "code",
   "execution_count": 1,
   "metadata": {},
   "outputs": [],
   "source": [
    "import numpy as np\n",
    "import matplotlib.pyplot as plt\n",
    "from scipy.stats import lognorm, norm\n",
    "import numba\n",
    "\n",
    "%matplotlib inline"
   ]
  },
  {
   "cell_type": "code",
   "execution_count": 2,
   "metadata": {},
   "outputs": [],
   "source": [
    "# Set parameters\n",
    "β = 0.96\n",
    "b = 0.05\n",
    "μ = 0.0\n",
    "σ = 0.15"
   ]
  },
  {
   "cell_type": "code",
   "execution_count": 3,
   "metadata": {},
   "outputs": [],
   "source": [
    "'''\n",
    "------------------------------------------------------------------------\n",
    "Create Grid for Wage State Space    \n",
    "------------------------------------------------------------------------\n",
    "lb_w      = scalar, lower bound of wage grid\n",
    "ub_w      = scalar, upper bound of wage grid \n",
    "size_w    = integer, number of grid points in wage state space\n",
    "w_grid    = vector, size_w x 1 vector of wage grid points \n",
    "------------------------------------------------------------------------\n",
    "'''\n",
    "lb_w = 0.1 # lower bound wage \n",
    "ub_w = 2.0 # upper bound wage\n",
    "size_w = 1000  # Number of grid points\n",
    "w_grid = np.linspace(lb_w, ub_w, size_w)\n",
    "w_dist = lognorm(s=σ, loc=μ) # distribution of wages\n",
    "w_prob = np.zeros(size_w)\n",
    "for i in range(1, size_w):\n",
    "    w_prob[i] = w_dist.cdf(w_grid[i]) - w_dist.cdf(w_grid[i-1])"
   ]
  },
  {
   "cell_type": "code",
   "execution_count": 4,
   "metadata": {},
   "outputs": [],
   "source": [
    "'''\n",
    "------------------------------------------------------------------------\n",
    "Value Function Iteration to find Reservation Wage    \n",
    "------------------------------------------------------------------------\n",
    "VFtol       = scalar, tolerance required for value function to converge\n",
    "VFdist      = scalar, distance between last two value functions\n",
    "VFmaxiter   = integer, maximum number of iterations for value function\n",
    "V           = matrix, the value functions at each iteration\n",
    "TV          = matrix, the value function after applying the Bellman operator\n",
    "VFiter      = integer, current iteration number\n",
    "------------------------------------------------------------------------\n",
    "'''\n",
    "@numba.jit\n",
    "def reservation_wage(b, β, w_prob, w_grid):\n",
    "    VFtol = 1e-8 \n",
    "    VFdist = 100\n",
    "    VFmaxiter = 500 \n",
    "    V = w_grid / (1 - β) # initial guess at value function\n",
    "    TV = np.empty_like(V)\n",
    "    VFiter = 1\n",
    "    while VFdist > VFtol and VFiter < VFmaxiter:\n",
    "        for i in range(size_w): # loop over w\n",
    "            v_employed = w_grid[i] / (1 - β)\n",
    "            v_unemployed = b + β * np.sum(V * w_prob)\n",
    "            TV[i] = max(v_employed, v_unemployed)\n",
    "        VFdist = (np.absolute(V - TV)).max()  # check distance\n",
    "        V[:] = TV\n",
    "        VFiter += 1\n",
    "    return V, (1 - β) * (b + β * np.sum(V * w_prob))"
   ]
  },
  {
   "cell_type": "code",
   "execution_count": 5,
   "metadata": {},
   "outputs": [
    {
     "data": {
      "text/plain": [
       "1.0570480921072598"
      ]
     },
     "execution_count": 5,
     "metadata": {},
     "output_type": "execute_result"
    }
   ],
   "source": [
    "VF, res_wage = reservation_wage(b, β, w_prob, w_grid)\n",
    "res_wage"
   ]
  },
  {
   "cell_type": "code",
   "execution_count": 6,
   "metadata": {},
   "outputs": [
    {
     "data": {
      "image/png": "[encoded data removed]",
      "text/plain": [
       "<matplotlib.figure.Figure at 0x11142eeb8>"
      ]
     },
     "metadata": {},
     "output_type": "display_data"
    }
   ],
   "source": [
    "plt.plot(w_grid, VF)\n",
    "plt.title(\"Value Function\")\n",
    "plt.xlabel(\"Wage offer\")\n",
    "plt.ylabel(\"Value function\")\n",
    "plt.show()"
   ]
  },
  {
   "cell_type": "code",
   "execution_count": 7,
   "metadata": {},
   "outputs": [
    {
     "data": {
      "image/png": "[encoded data removed]",
      "text/plain": [
       "<matplotlib.figure.Figure at 0x10bab72b0>"
      ]
     },
     "metadata": {},
     "output_type": "display_data"
    }
   ],
   "source": [
    "b_vals = np.arange(0.5, 1.02, 0.02)\n",
    "res_wages = np.empty_like(b_vals)\n",
    "for i, b_i in enumerate(b_vals):\n",
    "    VF, res_wages[i] = reservation_wage(b_i, β, w_prob, w_grid)\n",
    "\n",
    "plt.plot(b_vals, res_wages)\n",
    "plt.title(\"Reservation Wages\")\n",
    "plt.xlabel(\"Unemployment benefits\")\n",
    "plt.ylabel(\"Reservation wage\")\n",
    "plt.show()"
   ]
  },
  {
   "cell_type": "code",
   "execution_count": null,
   "metadata": {},
   "outputs": [],
   "source": []
  }
 ],
 "metadata": {
  "kernelspec": {
   "display_name": "Python 3",
   "language": "python",
   "name": "python3"
  },
  "language_info": {
   "codemirror_mode": {
    "name": "ipython",
    "version": 3
   },
   "file_extension": ".py",
   "mimetype": "text/x-python",
   "name": "python",
   "nbconvert_exporter": "python",
   "pygments_lexer": "ipython3",
   "version": "3.6.4"
  }
 },
 "nbformat": 4,
 "nbformat_minor": 2
}
