{
 "cells": [
  {
   "cell_type": "code",
   "execution_count": 1,
   "metadata": {},
   "outputs": [],
   "source": [
    "import numpy as np\n",
    "import time\n",
    "from scipy import optimize as opt\n",
    "from matplotlib import pyplot as plt"
   ]
  },
  {
   "cell_type": "code",
   "execution_count": 2,
   "metadata": {},
   "outputs": [],
   "source": [
    "# Set parameters\n",
    "β = 0.96 ** 20\n",
    "σ = 3\n",
    "nvec = np.array([1, 1, 0.2])\n",
    "A = 1\n",
    "α = 0.35\n",
    "δ = 0.6415\n",
    "toler = 1e-9\n",
    "L = np.sum(nvec)\n",
    "T = 20\n",
    "ξ = 0.2\n",
    "ϵ = 1e-9\n",
    "\n",
    "# Define useful functions\n",
    "U = lambda c: c ** ((1 - σ) - 1) / (1 - σ)  # CRRA utility function\n",
    "MU = lambda c: c ** (-σ)  # marginal utility\n",
    "get_r = lambda α, A, L, K, δ: α * A * (L / K) ** (1 - α) - δ\n",
    "get_w = lambda α, A, L, K: (1 - α) * A * (K / L) ** α"
   ]
  },
  {
   "cell_type": "markdown",
   "metadata": {},
   "source": [
    "# Exercise 2.1"
   ]
  },
  {
   "cell_type": "code",
   "execution_count": 3,
   "metadata": {},
   "outputs": [],
   "source": [
    "# Returns whether the initial guess for b2 and b3 violate any constraints\n",
    "def feasible(f_params, bvec_guess):\n",
    "    nvec, A, α, δ = f_params\n",
    "    L = np.sum(nvec)\n",
    "    K = np.sum(bvec_guess)\n",
    "    \n",
    "    r = get_r(α, A, L, K, δ)  # Steady state interest rate\n",
    "    w = get_w(α, A, L, K)  # Steady state wage\n",
    "    \n",
    "    b2, b3 = bvec_guess\n",
    "    n1, n2, n3 = nvec\n",
    "    \n",
    "    # Captial constraint\n",
    "    K_cnstr = np.sum(bvec_guess) <= 0\n",
    "    \n",
    "    # Consumption constraint\n",
    "    c_cnstr = np.empty(3, dtype=bool)\n",
    "    c_cnstr[0] = (n1 * w - b2 <= 0)\n",
    "    c_cnstr[1] = (n2 * w + (1 + r) * b2 - b3 <= 0)\n",
    "    c_cnstr[2] = (n3 * w + (1 + r) * b3 <= 0)\n",
    "    \n",
    "    # Savings constraint\n",
    "    b_cnstr = np.empty(2, dtype=bool)\n",
    "    b_cnstr[0] = ((c_cnstr[0] == True) | (c_cnstr[1] == True))\n",
    "    b_cnstr[1] = ((c_cnstr[1] == True) | (c_cnstr[2] == True))\n",
    "\n",
    "    return b_cnstr, c_cnstr, K_cnstr"
   ]
  },
  {
   "cell_type": "code",
   "execution_count": 4,
   "metadata": {},
   "outputs": [],
   "source": [
    "f_params = (nvec, A, α, δ)"
   ]
  },
  {
   "cell_type": "markdown",
   "metadata": {},
   "source": [
    "#### 2.7.a"
   ]
  },
  {
   "cell_type": "code",
   "execution_count": 5,
   "metadata": {},
   "outputs": [
    {
     "data": {
      "text/plain": [
       "(array([ True, False]), array([ True, False, False]), False)"
      ]
     },
     "execution_count": 5,
     "metadata": {},
     "output_type": "execute_result"
    }
   ],
   "source": [
    "bvec_guess = np.array([1.0, 1.2])\n",
    "feasible(f_params, bvec_guess)"
   ]
  },
  {
   "cell_type": "markdown",
   "metadata": {},
   "source": [
    "The household budget constraint in period 1 is violated."
   ]
  },
  {
   "cell_type": "markdown",
   "metadata": {},
   "source": [
    "#### 2.7.b"
   ]
  },
  {
   "cell_type": "code",
   "execution_count": 6,
   "metadata": {},
   "outputs": [
    {
     "data": {
      "text/plain": [
       "(array([False, False]), array([False, False, False]), False)"
      ]
     },
     "execution_count": 6,
     "metadata": {},
     "output_type": "execute_result"
    }
   ],
   "source": [
    "bvec_guess = np.array([0.06, -0.001])\n",
    "feasible(f_params, bvec_guess)"
   ]
  },
  {
   "cell_type": "markdown",
   "metadata": {},
   "source": [
    "None of the constraints are violated."
   ]
  },
  {
   "cell_type": "markdown",
   "metadata": {},
   "source": [
    "#### 2.7.c"
   ]
  },
  {
   "cell_type": "code",
   "execution_count": 7,
   "metadata": {},
   "outputs": [
    {
     "data": {
      "text/plain": [
       "(array([False, False]), array([False, False, False]), False)"
      ]
     },
     "execution_count": 7,
     "metadata": {},
     "output_type": "execute_result"
    }
   ],
   "source": [
    "bvec_guess = np.array([0.1, 0.1])\n",
    "feasible(f_params, bvec_guess)"
   ]
  },
  {
   "cell_type": "markdown",
   "metadata": {},
   "source": [
    "None of the constraints are violated."
   ]
  },
  {
   "cell_type": "markdown",
   "metadata": {},
   "source": [
    "# Exercise 2.2"
   ]
  },
  {
   "cell_type": "code",
   "execution_count": 8,
   "metadata": {},
   "outputs": [],
   "source": [
    "# Returns Euler errors from the resulting steady-state\n",
    "def euler_errors_ss(bvec, params):\n",
    "    β, α, A, nvec, δ, σ = params\n",
    "    b2, b3 = bvec\n",
    "    K = np.sum(bvec)\n",
    "    n1, n2, n3 = nvec\n",
    "    L = np.sum(nvec)\n",
    "    r = get_r(α, A, L, K, δ)\n",
    "    w = get_w(α, A, L, K)\n",
    "    err1 = β * (1 + r) * MU(n2 * w + (1 + r) * b2 - b3) - MU(n1 * w - b2)  # Euler equation in period 1\n",
    "    err2 = β * (1 + r) * MU(n3 * w + (1 + r) * b3) - MU(n2 * w + (1 + r) * b2 - b3) # Euler equation in period 2\n",
    "    return err1, err2"
   ]
  },
  {
   "cell_type": "code",
   "execution_count": 9,
   "metadata": {},
   "outputs": [],
   "source": [
    "# Finds steady-state\n",
    "def get_SS(params, bvec_guess, SS_graphs=False):\n",
    "    \n",
    "    start_time = time.clock()\n",
    "    β, σ, nvec, L, A, α, δ, toler = params \n",
    "    K = np.sum(bvec_guess)\n",
    "    b2, b3 = bvec_guess\n",
    "    n1, n2, n3 = nvec\n",
    "    \n",
    "    # find b1 and b2 to minimize Euler errors\n",
    "    solution = opt.root(euler_errors_ss, bvec_guess, args=[β, α, A, nvec, δ, σ], tol=toler)\n",
    "    \n",
    "    b_ss = solution.x  # steady-state savings\n",
    "    K_ss = np.sum(b_ss)  # steady-state capital stock\n",
    "    r_ss = get_r(α, A, L, K_ss, δ)  # steady-state interest rate\n",
    "    w_ss = get_w(α, A, L, K_ss)  # steady-state wage\n",
    "    \n",
    "    c1 = n1 * w_ss - b_ss[0]  # steady-state consumption in period 1\n",
    "    c2 = n2 * w_ss + (1 + r_ss) * b_ss[0] - b_ss[1]  # steady-state consumption in period 2\n",
    "    c3 = n3 * w_ss + (1 + r_ss) * b_ss[1]  # steady-state consumption in period 3\n",
    "    c_ss = np.array([c1, c2, c3])\n",
    "    C_ss = np.sum(c_ss)  # total consumption in steady-state \n",
    "    \n",
    "    Y_ss = C_ss + K_ss - (1 - δ) * K_ss  # total output in steady-state \n",
    "    \n",
    "    EulErr_ss = solution.fun\n",
    "    RCerr_ss = Y_ss - C_ss - δ * K_ss\n",
    "    ss_time = time.clock() - start_time\n",
    "    ss_output = {\n",
    "        'b_ss': b_ss, 'c_ss': c_ss, 'w_ss': w_ss, 'r_ss': r_ss,\n",
    "        'K_ss': K_ss, 'Y_ss': Y_ss, 'C_ss': C_ss, \n",
    "        'EulErr_ss': EulErr_ss, 'RCerr_ss': RCerr_ss,\n",
    "        'ss_time': ss_time}\n",
    "    \n",
    "    if SS_graphs:\n",
    "        fig, axes = plt.subplots(1, 2, figsize=(10, 5))\n",
    "        axes[0].bar([1, 2, 3], c_ss)\n",
    "        axes[0].set_xticks([1, 2, 3])\n",
    "        axes[0].set_xticklabels(['Young', 'Middle Age', 'Elderly'])\n",
    "        axes[0].set_title('Steady-State Distribution of Consumption by Age')\n",
    "        \n",
    "        axes[1].bar([1, 2], b_ss)\n",
    "        axes[1].set_xticks([1, 2])\n",
    "        axes[1].set_xticklabels(['Young', 'Middle Age'])\n",
    "        axes[1].set_title('Steady-State Distribution of Savings by Age')\n",
    "        plt.show()\n",
    "        \n",
    "    return ss_output"
   ]
  },
  {
   "cell_type": "code",
   "execution_count": 10,
   "metadata": {},
   "outputs": [],
   "source": [
    "params = (β, σ, nvec, L, A, α, δ, toler)"
   ]
  },
  {
   "cell_type": "code",
   "execution_count": 11,
   "metadata": {},
   "outputs": [
    {
     "data": {
      "image/png": "[encoded data removed]",
      "text/plain": [
       "<matplotlib.figure.Figure at 0x150f332c50>"
      ]
     },
     "metadata": {},
     "output_type": "display_data"
    },
    {
     "data": {
      "text/plain": [
       "{'C_ss': 0.6329021499791027,\n",
       " 'EulErr_ss': array([ 1.39266376e-12, -2.64321898e-12]),\n",
       " 'K_ss': 0.07772423282525998,\n",
       " 'RCerr_ss': 4.85722573273506e-17,\n",
       " 'Y_ss': 0.682762245336507,\n",
       " 'b_ss': array([0.01931272, 0.05841151]),\n",
       " 'c_ss': array([0.18241249, 0.20961516, 0.2408745 ]),\n",
       " 'r_ss': 2.4330467299114265,\n",
       " 'ss_time': 0.000652000000000097,\n",
       " 'w_ss': 0.20172520884942252}"
      ]
     },
     "execution_count": 11,
     "metadata": {},
     "output_type": "execute_result"
    }
   ],
   "source": [
    "bvec_guess = np.array([0.1, 0.1])\n",
    "get_SS(params, bvec_guess, SS_graphs=True)"
   ]
  },
  {
   "cell_type": "code",
   "execution_count": 12,
   "metadata": {},
   "outputs": [
    {
     "data": {
      "image/png": "[encoded data removed]",
      "text/plain": [
       "<matplotlib.figure.Figure at 0x150f3bb7f0>"
      ]
     },
     "metadata": {},
     "output_type": "display_data"
    },
    {
     "data": {
      "text/plain": [
       "{'C_ss': 0.6912842903551415,\n",
       " 'EulErr_ss': array([-5.68434189e-14,  2.84217094e-14]),\n",
       " 'K_ss': 0.10504237022597478,\n",
       " 'RCerr_ss': 1.3877787807814457e-17,\n",
       " 'Y_ss': 0.7586689708551043,\n",
       " 'b_ss': array([0.02817692, 0.07686545]),\n",
       " 'c_ss': array([0.19597528, 0.22861594, 0.26669307]),\n",
       " 'r_ss': 1.8863765057190747,\n",
       " 'ss_time': 0.0005589999999999762,\n",
       " 'w_ss': 0.22415219593446262}"
      ]
     },
     "execution_count": 12,
     "metadata": {},
     "output_type": "execute_result"
    }
   ],
   "source": [
    "params = ((0.55, σ, nvec, L, A, α, δ, toler))\n",
    "bvec_guess = np.array([0.1, 0.1])\n",
    "get_SS(params, bvec_guess, SS_graphs=True)"
   ]
  },
  {
   "cell_type": "markdown",
   "metadata": {},
   "source": [
    "An increase in $\\beta$ increases consumption and savings in every period. Wages increase as well, while interest rates decrease. Increasing the discount rate means that households can maximize lifetime utility by consuming more in future periods. Savings for future periods, as well as consumption in these periods, will therefore increase, while interest rates will decrease with this increase in savings. This saving will also result in an increase in overall output, which will increase wages as well as allow for households to consume more in every period, including the t=1 period."
   ]
  },
  {
   "cell_type": "markdown",
   "metadata": {},
   "source": [
    "# Exercise 2.3"
   ]
  },
  {
   "cell_type": "code",
   "execution_count": 13,
   "metadata": {},
   "outputs": [],
   "source": [
    "# solve for steady state \n",
    "params = (β, σ, nvec, L, A, α, δ, toler)\n",
    "bvec_guess = np.array([0.1, 0.1])\n",
    "SS = get_SS(params, bvec_guess)\n",
    "\n",
    "nvec = np.array([1, 1, 0.2])\n",
    "n1, n2, n3 = nvec\n",
    "\n",
    "# steady-state savings\n",
    "bvec_ss = SS['b_ss']\n",
    "b2_ss = bvec_ss[0]\n",
    "b3_ss = bvec_ss[1]\n",
    "K_ss = np.sum(bvec_ss)\n",
    "\n",
    "# set initial conditions\n",
    "b2_0 = 0.8 * b2_ss\n",
    "b3_0 = 1.1 * b3_ss\n",
    "bvec_0 = np.array([b2_0, b3_0])\n",
    "K_0 = np.sum(bvec_0)"
   ]
  },
  {
   "cell_type": "code",
   "execution_count": 14,
   "metadata": {},
   "outputs": [],
   "source": [
    "# define Euler equations\n",
    "euler_b2 = lambda b2, b3, w1, w2, r2: β * (1 + r2) * MU(n2 * w2 + (1 + r2) * b2 - b3) - MU(n1 * w1 - b2)\n",
    "euler_b3 = lambda b3, b2, w2, w3, r2, r3: β * (1 + r3) * MU((1 + r3) * b3 + n3 * w3) - MU(n2 * w2 + (1 + r2) * b2 - b3)"
   ]
  },
  {
   "cell_type": "code",
   "execution_count": 15,
   "metadata": {},
   "outputs": [],
   "source": [
    "# get Euler equation to solve for b2 and b3\n",
    "def get_b2_b3(bvec, w1, w2, w3, r2, r3):\n",
    "    \n",
    "    b2, b3 = bvec\n",
    "    b2_euler = euler_b2(b2, b3, w1, w2, r2)\n",
    "    b3_euler = euler_b3(b3, b2, w2, w3, r2, r3)\n",
    "    \n",
    "    return np.array([b2_euler, b3_euler]).flatten()"
   ]
  },
  {
   "cell_type": "code",
   "execution_count": 16,
   "metadata": {},
   "outputs": [],
   "source": [
    "# get Euler equation to solve for b32\n",
    "def get_b32(b3, b2, w1, w2, r1, r2):\n",
    "    return euler_b3(b3, b2, w1, w2, r1, r2)"
   ]
  },
  {
   "cell_type": "code",
   "execution_count": 17,
   "metadata": {},
   "outputs": [],
   "source": [
    "# Compute time paths of capital stock, wage, interest rate\n",
    "def find_path(T, bvec_0, nvec, m, params):\n",
    "\n",
    "    σ, β, ξ, ϵ, δ = params\n",
    "    n1, n2, n3 = nvec\n",
    "    \n",
    "    # guess path of capital stock, interest rates, and wages\n",
    "    K_path = np.linspace(K_0, K_ss, T + 5 + m)\n",
    "    r_path = get_r(α, A, L, K_path, δ)\n",
    "    w_path = get_w(α, A, L, K_path)\n",
    "    \n",
    "    # initialize b matrix\n",
    "    bmat = np.zeros((T + 5 + m, 2))\n",
    "    bmat[0, :] = bvec_0\n",
    "    b21, w1, w2, r1, r2 = bvec_0[0], w_path[0], w_path[1], r_path[0], r_path[1]\n",
    "    bmat[1, 1] = opt.root(get_b32, 0, args=(b21, w1, w2, r1, r2)).x  # find optimal b32\n",
    "    \n",
    "    i = 0\n",
    "    max_iter = 100\n",
    "    dist = 1000\n",
    "    Eul_errs = np.empty((T + 5 + m, 2))\n",
    "    Y_path = np.empty((T + 4 + m, 2))\n",
    "    Rcc_path = np.empty((T + 4 + m, 2))\n",
    "    \n",
    "    # iterate until K_path converges within a tolerance ϵ\n",
    "    while (dist > ϵ) and (i < max_iter):\n",
    "        for t in range(1, T + 4 + m):\n",
    "            w1, w2, w3 = w_path[t - 1], w_path[t], w_path[t + 1]\n",
    "            r2, r3 = r_path[t], r_path[t + 1]\n",
    "            solution = opt.root(get_b2_b3, np.zeros(2), args=(w1, w2, w3, r2, r3))  # find optimal b2 and b3\n",
    "            b2, b3 = solution.x\n",
    "            bmat[t, 0] = b2\n",
    "            bmat[t + 1, 1] = b3\n",
    "            Eul_errs[t-1] = solution.fun\n",
    "        \n",
    "        # recalculate K_path\n",
    "        K_path_prime = bmat.sum(axis=1)\n",
    "        dist = ((K_path_prime - K_path) ** 2).sum()\n",
    "        K_path = ξ * K_path_prime + (1 - ξ) * K_path\n",
    "        \n",
    "        # recalculate r_path, w_path\n",
    "        r_path = get_r(α, A, L, K_path, δ)  \n",
    "        w_path = get_w(α, A, L, K_path)\n",
    "        \n",
    "        i += 1\n",
    "    \n",
    "    # compute for time paths for consumption, savings\n",
    "    b2_path = bmat[:, 0]\n",
    "    b3_path = bmat[:, 1]\n",
    "    c1_path = n1 * w_path - b2_path  # steady-state consumption in period 1\n",
    "    c2_path = n2 * w_path + (1 + r_path) * b2_path - b3_path  # steady-state consumption in period 2\n",
    "    c3_path = n3 * w_path + (1 + r_path) * b3_path  # steady-state consumption in period 3\n",
    "    c_paths = np.array([c1_path, c2_path, c3_path])\n",
    "    C_path = np.sum(c_paths, axis=0)  # total consumption in steady-state \n",
    "    \n",
    "    Y_path = C_path + K_path - (1 - δ) * K_path\n",
    "    Rc_path = Y_path[:-1] - C_path[:-1] - K_path[1:] + (1 - δ) * K_path[:-1]\n",
    "    \n",
    "    return K_path[:-m], w_path[:-m], r_path[:-m], Eul_errs[:-m], Rc_path[:-m+1]"
   ]
  },
  {
   "cell_type": "code",
   "execution_count": 18,
   "metadata": {},
   "outputs": [],
   "source": [
    "K_path, w_path, r_path, Eul_errs, Rc_path = find_path(T, bvec_0, nvec, 3, (σ, β, ξ, ϵ, δ))"
   ]
  },
  {
   "cell_type": "code",
   "execution_count": 19,
   "metadata": {},
   "outputs": [
    {
     "name": "stdout",
     "output_type": "stream",
     "text": [
      "Max Euler error: 3.7790641727042384e-09\n"
     ]
    }
   ],
   "source": [
    "print(\"Max Euler error:\", np.max(np.abs(Eul_errs)))"
   ]
  },
  {
   "cell_type": "code",
   "execution_count": 20,
   "metadata": {},
   "outputs": [
    {
     "name": "stdout",
     "output_type": "stream",
     "text": [
      "Max Resourse constraint error: 0.0038166065475618016\n"
     ]
    }
   ],
   "source": [
    "print(\"Max Resourse constraint error:\", np.max(np.abs(Rc_path)))"
   ]
  },
  {
   "cell_type": "code",
   "execution_count": 21,
   "metadata": {},
   "outputs": [
    {
     "data": {
      "image/png": "[encoded data removed]",
      "text/plain": [
       "<matplotlib.figure.Figure at 0x15182b7a90>"
      ]
     },
     "metadata": {},
     "output_type": "display_data"
    }
   ],
   "source": [
    "fig, axes = plt.subplots(3, 1, figsize=(8, 15))\n",
    "axes[0].plot(K_path, label='path of capital stock')\n",
    "axes[0].axhline(SS['K_ss'], ls='--', c='k', alpha=0.3, label='steady-state capital stock')\n",
    "axes[0].set_title('Time Path of Aggregate Capital Stock')\n",
    "axes[0].set_ylabel('Capital Stock')\n",
    "axes[0].set_xlabel('Period')\n",
    "axes[0].legend()\n",
    "\n",
    "axes[1].plot(w_path, label='path of wages')\n",
    "axes[1].axhline(SS['w_ss'], ls='--', c='k', alpha=0.3, label='steady-state wage')\n",
    "axes[1].set_title('Time Path of Wages')\n",
    "axes[1].set_ylabel('Wage')\n",
    "axes[1].set_xlabel('Period')\n",
    "axes[1].legend()\n",
    "\n",
    "axes[2].plot(r_path, label='path of interest rates')\n",
    "axes[2].axhline(SS['r_ss'], ls='--', c='k', alpha=0.3, label='steady-state interest rate')\n",
    "axes[2].set_title('Time Path of Interest Rates')\n",
    "axes[2].set_ylabel('Interest Rate')\n",
    "axes[2].set_xlabel('Period')\n",
    "axes[2].legend()\n",
    "\n",
    "plt.show()"
   ]
  },
  {
   "cell_type": "code",
   "execution_count": 22,
   "metadata": {},
   "outputs": [
    {
     "data": {
      "text/plain": [
       "array([8])"
      ]
     },
     "execution_count": 22,
     "metadata": {},
     "output_type": "execute_result"
    }
   ],
   "source": [
    "np.argwhere(np.abs(K_ss - K_path) < 0.00001)[0]"
   ]
  },
  {
   "cell_type": "markdown",
   "metadata": {},
   "source": [
    "The economy gets within 0.00001 of the steady state aggregate capital stock after 9 periods. "
   ]
  },
  {
   "cell_type": "code",
   "execution_count": null,
   "metadata": {},
   "outputs": [],
   "source": []
  }
 ],
 "metadata": {
  "kernelspec": {
   "display_name": "Python 3",
   "language": "python",
   "name": "python3"
  },
  "language_info": {
   "codemirror_mode": {
    "name": "ipython",
    "version": 3
   },
   "file_extension": ".py",
   "mimetype": "text/x-python",
   "name": "python",
   "nbconvert_exporter": "python",
   "pygments_lexer": "ipython3",
   "version": "3.6.4"
  }
 },
 "nbformat": 4,
 "nbformat_minor": 2
}
