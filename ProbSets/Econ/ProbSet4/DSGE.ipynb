{
 "cells": [
  {
   "cell_type": "markdown",
   "metadata": {},
   "source": [
    "# Exercise 5"
   ]
  },
  {
   "cell_type": "code",
   "execution_count": 1,
   "metadata": {},
   "outputs": [],
   "source": [
    "from scipy import optimize as opt\n",
    "import numpy as np"
   ]
  },
  {
   "cell_type": "code",
   "execution_count": 2,
   "metadata": {},
   "outputs": [],
   "source": [
    "# parameters\n",
    "γ = 2.5\n",
    "β = .98\n",
    "α = .40\n",
    "δ = .10\n",
    "z_bar = 0\n",
    "τ = .05"
   ]
  },
  {
   "cell_type": "code",
   "execution_count": 3,
   "metadata": {},
   "outputs": [],
   "source": [
    "# Solve algebraically for steady state values"
   ]
  },
  {
   "cell_type": "code",
   "execution_count": 4,
   "metadata": {},
   "outputs": [
    {
     "data": {
      "text/plain": [
       "7.287497950692988"
      ]
     },
     "execution_count": 4,
     "metadata": {},
     "output_type": "execute_result"
    }
   ],
   "source": [
    "# Steady state capital\n",
    "k_bar = ((1 / (α * np.exp(z_bar) ** (1 - α))) \n",
    "         * ((1 - β) / (β * (1 - τ)) + δ)) ** (1 / (α - 1))\n",
    "k_bar"
   ]
  },
  {
   "cell_type": "code",
   "execution_count": 5,
   "metadata": {},
   "outputs": [
    {
     "data": {
      "text/plain": [
       "1.3279527683513057"
      ]
     },
     "execution_count": 5,
     "metadata": {},
     "output_type": "execute_result"
    }
   ],
   "source": [
    "# Steady state wage\n",
    "w_bar = (1 - α) * k_bar ** α * np.exp(z_bar) ** (1 - α)\n",
    "w_bar"
   ]
  },
  {
   "cell_type": "code",
   "execution_count": 6,
   "metadata": {},
   "outputs": [
    {
     "data": {
      "text/plain": [
       "0.1214822771213749"
      ]
     },
     "execution_count": 6,
     "metadata": {},
     "output_type": "execute_result"
    }
   ],
   "source": [
    "# Steady state capital returns\n",
    "r_bar = α * k_bar ** (α - 1) * np.exp(z_bar) ** (1 - α)\n",
    "r_bar"
   ]
  },
  {
   "cell_type": "code",
   "execution_count": 7,
   "metadata": {},
   "outputs": [
    {
     "data": {
      "text/plain": [
       "0.0742252409424772"
      ]
     },
     "execution_count": 7,
     "metadata": {},
     "output_type": "execute_result"
    }
   ],
   "source": [
    "# Steady state tax rate\n",
    "T_bar = τ * (w_bar + (r_bar - δ) * k_bar)\n",
    "T_bar"
   ]
  },
  {
   "cell_type": "code",
   "execution_count": 8,
   "metadata": {},
   "outputs": [
    {
     "data": {
      "text/plain": [
       "1.484504818849544"
      ]
     },
     "execution_count": 8,
     "metadata": {},
     "output_type": "execute_result"
    }
   ],
   "source": [
    "# Steady state consumption\n",
    "c_bar = (1 - τ) * (w_bar + (r_bar - δ) * k_bar) + T_bar\n",
    "c_bar"
   ]
  },
  {
   "cell_type": "code",
   "execution_count": 9,
   "metadata": {},
   "outputs": [
    {
     "data": {
      "text/plain": [
       "2.213254613918843"
      ]
     },
     "execution_count": 9,
     "metadata": {},
     "output_type": "execute_result"
    }
   ],
   "source": [
    "# Steady state output\n",
    "y_bar = k_bar ** α * np.exp(z_bar) ** (1 - α)\n",
    "y_bar"
   ]
  },
  {
   "cell_type": "code",
   "execution_count": 10,
   "metadata": {},
   "outputs": [
    {
     "data": {
      "text/plain": [
       "0.7287497950692989"
      ]
     },
     "execution_count": 10,
     "metadata": {},
     "output_type": "execute_result"
    }
   ],
   "source": [
    "# Steady state investment rate\n",
    "i_bar = k_bar - (1 - δ) * k_bar\n",
    "i_bar"
   ]
  },
  {
   "cell_type": "code",
   "execution_count": 11,
   "metadata": {},
   "outputs": [],
   "source": [
    "# Solve numerically for steady state values"
   ]
  },
  {
   "cell_type": "code",
   "execution_count": 12,
   "metadata": {},
   "outputs": [],
   "source": [
    "ss_equation = lambda k, γ, β, α, δ, z_bar, τ: β * ((α * k ** (α - 1) * np.exp(z_bar) ** (1 - α) - δ) * (1 - τ) + 1) - 1"
   ]
  },
  {
   "cell_type": "code",
   "execution_count": 13,
   "metadata": {},
   "outputs": [
    {
     "data": {
      "text/plain": [
       "7.287497950692982"
      ]
     },
     "execution_count": 13,
     "metadata": {},
     "output_type": "execute_result"
    }
   ],
   "source": [
    "# Steady state capital\n",
    "k_bar = opt.root(ss_equation, 1, args=(γ, β, α, δ, z_bar, τ)).x[0]\n",
    "k_bar"
   ]
  },
  {
   "cell_type": "code",
   "execution_count": 14,
   "metadata": {},
   "outputs": [
    {
     "data": {
      "text/plain": [
       "1.3279527683513053"
      ]
     },
     "execution_count": 14,
     "metadata": {},
     "output_type": "execute_result"
    }
   ],
   "source": [
    "# Steady state wage\n",
    "w_bar = (1 - α) * k_bar ** α * np.exp(z_bar) ** (1 - α)\n",
    "w_bar"
   ]
  },
  {
   "cell_type": "code",
   "execution_count": 15,
   "metadata": {},
   "outputs": [
    {
     "data": {
      "text/plain": [
       "0.12148227712137494"
      ]
     },
     "execution_count": 15,
     "metadata": {},
     "output_type": "execute_result"
    }
   ],
   "source": [
    "# Steady state capital returns\n",
    "r_bar = α * k_bar ** (α - 1) * np.exp(z_bar) ** (1 - α)\n",
    "r_bar"
   ]
  },
  {
   "cell_type": "code",
   "execution_count": 16,
   "metadata": {},
   "outputs": [
    {
     "data": {
      "text/plain": [
       "0.07422524094247719"
      ]
     },
     "execution_count": 16,
     "metadata": {},
     "output_type": "execute_result"
    }
   ],
   "source": [
    "# Steady state tax rate\n",
    "T_bar = τ * (w_bar + (r_bar - δ) * k_bar)\n",
    "T_bar"
   ]
  },
  {
   "cell_type": "code",
   "execution_count": 17,
   "metadata": {},
   "outputs": [
    {
     "data": {
      "text/plain": [
       "1.4845048188495438"
      ]
     },
     "execution_count": 17,
     "metadata": {},
     "output_type": "execute_result"
    }
   ],
   "source": [
    "# Steady state consumption\n",
    "c_bar = (1 - τ) * (w_bar + (r_bar - δ) * k_bar) + T_bar\n",
    "c_bar"
   ]
  },
  {
   "cell_type": "code",
   "execution_count": 18,
   "metadata": {},
   "outputs": [
    {
     "data": {
      "text/plain": [
       "2.213254613918842"
      ]
     },
     "execution_count": 18,
     "metadata": {},
     "output_type": "execute_result"
    }
   ],
   "source": [
    "# Steady state output\n",
    "y_bar = k_bar ** α * np.exp(z_bar) ** (1 - α)\n",
    "y_bar"
   ]
  },
  {
   "cell_type": "code",
   "execution_count": 19,
   "metadata": {},
   "outputs": [
    {
     "data": {
      "text/plain": [
       "0.728749795069298"
      ]
     },
     "execution_count": 19,
     "metadata": {},
     "output_type": "execute_result"
    }
   ],
   "source": [
    "# Steady state investment rate\n",
    "i_bar = k_bar - (1 - δ) * k_bar\n",
    "i_bar"
   ]
  },
  {
   "cell_type": "markdown",
   "metadata": {},
   "source": [
    "### Exercise 6"
   ]
  },
  {
   "cell_type": "code",
   "execution_count": 20,
   "metadata": {},
   "outputs": [],
   "source": [
    "# parameters\n",
    "γ = 2.5\n",
    "ξ = 1.5\n",
    "β = .98\n",
    "α = .40\n",
    "a = .5\n",
    "δ = .10\n",
    "z_bar = 0\n",
    "τ = .05"
   ]
  },
  {
   "cell_type": "code",
   "execution_count": 21,
   "metadata": {},
   "outputs": [],
   "source": [
    "def ss_equations(args, params):\n",
    "    γ, ξ, β, α, a, δ, z_bar, τ = params\n",
    "    k, l = args\n",
    "    \n",
    "    r = α * k ** (α - 1) * (l * np.exp(z_bar)) ** (1 - α)\n",
    "    w = (1 - α) * k ** α * np.exp(z_bar) ** (1 - α) * l ** (-α)\n",
    "    T = τ * (w * l + (r - δ) * k)\n",
    "    c = (1 - τ) * (w * l + (r - δ) * k) + T\n",
    "    equation1 = β * ((r - δ) * (1 - τ) + 1) - 1\n",
    "    equation2 = a * (1 - l) ** (-ξ) - c ** (-γ) * w * (1 - τ)\n",
    "    \n",
    "    return equation1, equation2"
   ]
  },
  {
   "cell_type": "code",
   "execution_count": 22,
   "metadata": {},
   "outputs": [],
   "source": [
    "k_bar, l_bar = opt.root(ss_equations, np.array([0.5, 0.5]), args=[γ, ξ, β, α, a, δ, z_bar, τ]).x"
   ]
  },
  {
   "cell_type": "code",
   "execution_count": 23,
   "metadata": {},
   "outputs": [
    {
     "data": {
      "text/plain": [
       "4.225229025963054"
      ]
     },
     "execution_count": 23,
     "metadata": {},
     "output_type": "execute_result"
    }
   ],
   "source": [
    "# Steady state capital\n",
    "k_bar"
   ]
  },
  {
   "cell_type": "code",
   "execution_count": 24,
   "metadata": {},
   "outputs": [
    {
     "data": {
      "text/plain": [
       "0.5797914531660252"
      ]
     },
     "execution_count": 24,
     "metadata": {},
     "output_type": "execute_result"
    }
   ],
   "source": [
    "# Steady state labor supply\n",
    "l_bar"
   ]
  },
  {
   "cell_type": "code",
   "execution_count": 25,
   "metadata": {},
   "outputs": [
    {
     "data": {
      "text/plain": [
       "0.1214822771354114"
      ]
     },
     "execution_count": 25,
     "metadata": {},
     "output_type": "execute_result"
    }
   ],
   "source": [
    "# Steady state capital returns\n",
    "r_bar = α * k_bar ** (α - 1) * (l_bar * np.exp(z_bar)) ** (1 - α)\n",
    "r_bar"
   ]
  },
  {
   "cell_type": "code",
   "execution_count": 26,
   "metadata": {},
   "outputs": [
    {
     "data": {
      "text/plain": [
       "1.3279527682490144"
      ]
     },
     "execution_count": 26,
     "metadata": {},
     "output_type": "execute_result"
    }
   ],
   "source": [
    "# Steady state wage\n",
    "w_bar = (1 - α) * k_bar ** α * np.exp(z_bar) ** (1 - α) * l_bar ** (-α)\n",
    "w_bar"
   ]
  },
  {
   "cell_type": "code",
   "execution_count": 27,
   "metadata": {},
   "outputs": [
    {
     "data": {
      "text/plain": [
       "0.043035160306763236"
      ]
     },
     "execution_count": 27,
     "metadata": {},
     "output_type": "execute_result"
    }
   ],
   "source": [
    "# Steady state tax rate\n",
    "T_bar = τ * (w_bar * l_bar + (r_bar - δ) * k_bar)\n",
    "T_bar"
   ]
  },
  {
   "cell_type": "code",
   "execution_count": 28,
   "metadata": {},
   "outputs": [
    {
     "data": {
      "text/plain": [
       "0.8607032061352646"
      ]
     },
     "execution_count": 28,
     "metadata": {},
     "output_type": "execute_result"
    }
   ],
   "source": [
    "# Steady state consumption\n",
    "c_bar = (1 - τ) * (w_bar * l_bar + (r_bar - δ) * k_bar) + T_bar\n",
    "c_bar"
   ]
  },
  {
   "cell_type": "code",
   "execution_count": 29,
   "metadata": {},
   "outputs": [
    {
     "data": {
      "text/plain": [
       "1.7796725499295363"
      ]
     },
     "execution_count": 29,
     "metadata": {},
     "output_type": "execute_result"
    }
   ],
   "source": [
    "# Steady state output\n",
    "y_bar = k_bar ** α * np.exp(z_bar) ** (1 - α)\n",
    "y_bar"
   ]
  },
  {
   "cell_type": "code",
   "execution_count": 30,
   "metadata": {},
   "outputs": [
    {
     "data": {
      "text/plain": [
       "0.4225229025963051"
      ]
     },
     "execution_count": 30,
     "metadata": {},
     "output_type": "execute_result"
    }
   ],
   "source": [
    "# Steady state investment rate\n",
    "i_bar = k_bar - (1 - δ) * k_bar\n",
    "i_bar"
   ]
  },
  {
   "cell_type": "code",
   "execution_count": null,
   "metadata": {},
   "outputs": [],
   "source": []
  },
  {
   "cell_type": "code",
   "execution_count": null,
   "metadata": {},
   "outputs": [],
   "source": []
  },
  {
   "cell_type": "code",
   "execution_count": null,
   "metadata": {},
   "outputs": [],
   "source": []
  }
 ],
 "metadata": {
  "kernelspec": {
   "display_name": "Python 3",
   "language": "python",
   "name": "python3"
  },
  "language_info": {
   "codemirror_mode": {
    "name": "ipython",
    "version": 3
   },
   "file_extension": ".py",
   "mimetype": "text/x-python",
   "name": "python",
   "nbconvert_exporter": "python",
   "pygments_lexer": "ipython3",
   "version": "3.6.4"
  }
 },
 "nbformat": 4,
 "nbformat_minor": 2
}
