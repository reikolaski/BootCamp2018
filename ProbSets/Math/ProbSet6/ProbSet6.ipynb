{
 "cells": [
  {
   "cell_type": "markdown",
   "metadata": {},
   "source": [
    "# Exercise 9.6\n",
    "Write a simple routine for implementing the steepest descent method for quadratic functions."
   ]
  },
  {
   "cell_type": "code",
   "execution_count": 1,
   "metadata": {},
   "outputs": [],
   "source": [
    "import numpy as np\n",
    "from matplotlib import pyplot as plt\n",
    "from scipy import linalg as la"
   ]
  },
  {
   "cell_type": "code",
   "execution_count": 2,
   "metadata": {},
   "outputs": [],
   "source": [
    "def steepest_descent_quadratic(Q, b, c, x_0, ɛ=1e-9, maxiters=1e3):\n",
    "    '''\n",
    "    Computes minimizer and minimum value of \n",
    "    f(x) = 0.5 * x.T @ Q @ x - b.T @ x + c\n",
    "    using the steepest descent method.\n",
    "    '''\n",
    "    dist = 1e3\n",
    "    i = 0\n",
    "    x_k = x_0\n",
    "    while dist > ɛ and i < maxiters:\n",
    "        DfT = Q @ x_k - b  # compute Df(x).T from given formula\n",
    "        α_k = (DfT.T @ DfT) / (DfT.T @ Q @ DfT)  # compute α from formula\n",
    "        x_k1 = x_k - α_k * DfT\n",
    "        dist = la.norm(DfT.T)\n",
    "        x_k = x_k1\n",
    "        i += 1\n",
    "    if i < maxiters:\n",
    "        print(f\"Converged in {i} iterations\")\n",
    "        f = 0.5 * x_k.T @ Q @ x_k - b.T @ x_k + c\n",
    "    else:\n",
    "        print(\"Did not converge\")\n",
    "        f = None\n",
    "    return x_k, f"
   ]
  },
  {
   "cell_type": "code",
   "execution_count": 3,
   "metadata": {},
   "outputs": [],
   "source": [
    "Q = np.array([[2, 1],[1, 2]])\n",
    "b = np.array([-2, 1])\n",
    "c = 0\n",
    "x_0 = np.array([23, 7])"
   ]
  },
  {
   "cell_type": "code",
   "execution_count": 4,
   "metadata": {},
   "outputs": [
    {
     "name": "stdout",
     "output_type": "stream",
     "text": [
      "Converged in 18 iterations\n"
     ]
    },
    {
     "data": {
      "text/plain": [
       "(array([-1.66666667,  1.33333333]), -2.333333333333333)"
      ]
     },
     "execution_count": 4,
     "metadata": {},
     "output_type": "execute_result"
    }
   ],
   "source": [
    "steepest_descent_quadratic(Q, b, c, x_0)"
   ]
  },
  {
   "cell_type": "code",
   "execution_count": 5,
   "metadata": {},
   "outputs": [],
   "source": [
    "# check function using optimizer from scipy\n",
    "from scipy import optimize as opt"
   ]
  },
  {
   "cell_type": "code",
   "execution_count": 6,
   "metadata": {},
   "outputs": [],
   "source": [
    "def f(x, args):\n",
    "    Q, b, c = args\n",
    "    return 0.5 * x.T @ Q @ x - b.T @ x + c"
   ]
  },
  {
   "cell_type": "code",
   "execution_count": 7,
   "metadata": {},
   "outputs": [
    {
     "data": {
      "text/plain": [
       "      fun: -2.333333333333333\n",
       " hess_inv: array([[ 0.66667127, -0.3333328 ],\n",
       "       [-0.3333328 ,  0.66666691]])\n",
       "      jac: array([0.00000000e+00, 2.98023224e-08])\n",
       "  message: 'Optimization terminated successfully.'\n",
       "     nfev: 28\n",
       "      nit: 5\n",
       "     njev: 7\n",
       "   status: 0\n",
       "  success: True\n",
       "        x: array([-1.66666668,  1.33333333])"
      ]
     },
     "execution_count": 7,
     "metadata": {},
     "output_type": "execute_result"
    }
   ],
   "source": [
    "opt.minimize(f, x_0, args=[Q, b, c])"
   ]
  },
  {
   "cell_type": "markdown",
   "metadata": {},
   "source": [
    "# Exercise 9.7\n",
    "Write a simple method for computing $Df$ using forward differences and a step size of $\\sqrt{Rerr_f}$."
   ]
  },
  {
   "cell_type": "code",
   "execution_count": 8,
   "metadata": {},
   "outputs": [],
   "source": [
    "def compute_Df(f, x, Rerr=1e-9):\n",
    "    '''Approximates Df(x)'''\n",
    "    h = np.sqrt(Rerr)  # step size\n",
    "    \n",
    "    # make function applicable for both scalar and vector valued functions\n",
    "    if np.isscalar(x):\n",
    "        n = 1\n",
    "    else:\n",
    "        n = len(x)\n",
    "    if np.isscalar(f(x)):\n",
    "        m = 1\n",
    "    else:\n",
    "        m = len(f(x))\n",
    "    \n",
    "    Df = np.empty((m, n))\n",
    "    for j in range(n):\n",
    "        e = np.identity(n)[j]  # jth standard basis vector (e=1 if n=1)\n",
    "        Df[:, j] = (f(x + h * e) - f(x - h * e)) / (2 * h)\n",
    "    return Df"
   ]
  },
  {
   "cell_type": "code",
   "execution_count": 9,
   "metadata": {},
   "outputs": [],
   "source": [
    "f = lambda x: np.array([x[0] ** 2 + x[2], x[0] ** 3 - x[1]]).T\n",
    "x = np.array([1, 2, 3])"
   ]
  },
  {
   "cell_type": "code",
   "execution_count": 10,
   "metadata": {},
   "outputs": [
    {
     "data": {
      "text/plain": [
       "array([ 4, -1])"
      ]
     },
     "execution_count": 10,
     "metadata": {},
     "output_type": "execute_result"
    }
   ],
   "source": [
    "f(x)"
   ]
  },
  {
   "cell_type": "code",
   "execution_count": 11,
   "metadata": {},
   "outputs": [
    {
     "data": {
      "text/plain": [
       "array([[ 2.,  0.,  1.],\n",
       "       [ 3., -1.,  0.]])"
      ]
     },
     "execution_count": 11,
     "metadata": {},
     "output_type": "execute_result"
    }
   ],
   "source": [
    "compute_Df(f, x)"
   ]
  },
  {
   "cell_type": "markdown",
   "metadata": {},
   "source": [
    "# Exercise 9.8\n",
    "Use your differentiation method from the previous problem to construct a simple method for implementing the steepest descent method for arbitrary functions, using the secant method for the line search."
   ]
  },
  {
   "cell_type": "code",
   "execution_count": 16,
   "metadata": {},
   "outputs": [],
   "source": [
    "# Use the secant method to find the minimizer of a function\n",
    "def secant_minimizer(x_0, x_1, ϕ, ɛ=1e-9, maxiters=1000):\n",
    "    '''\n",
    "    Computes minimum using the secant method.\n",
    "    '''\n",
    "    x = np.zeros(maxiters, dtype=float)\n",
    "    fprime = np.zeros(maxiters, dtype=float)  # store derivatives to minimize computation\n",
    "    \n",
    "    # initial guesses\n",
    "    x[0] = x_0\n",
    "    fprime[0] = compute_Df(ϕ, x[0])[0]      # calling compute_Df with ϕ as defined in the steepest descent\n",
    "    x[1] = x_1                              # function to find α returns [α, α] (index[0] to get just α)\n",
    "    fprime[1] = compute_Df(ϕ, x[1])[0]\n",
    "    \n",
    "    k = 2\n",
    "    dist = 1e3\n",
    "    while dist > ɛ and k < maxiters:\n",
    "        x[k] = x[k-1] - fprime[k-1] * ((x[k-1] - x[k-2]) / (fprime[k-1] - fprime[k-2]))  # next approximation\n",
    "        fprime[k] = compute_Df(ϕ, x[k])[0]\n",
    "        dist = np.abs((x[k] - x[k-1]) / x[k-1])  # check distance from previous iteration\n",
    "        k +=1\n",
    "    return x[k-1]"
   ]
  },
  {
   "cell_type": "code",
   "execution_count": 17,
   "metadata": {},
   "outputs": [],
   "source": [
    "def steepest_descent(f, x_0, ɛ=1e-6, maxiters=1000):    \n",
    "    '''\n",
    "    Computes minimizer and minimum value of an arbitrary function\n",
    "    using the steepest descent method.\n",
    "    '''\n",
    "    dist = 1e3\n",
    "    i = 0\n",
    "    x_k = x_0\n",
    "    while dist > ɛ and i < maxiters:\n",
    "        Df = compute_Df(f, x_k, 1e-3)[0]\n",
    "        ϕ = lambda α: f(x_k - α * Df.T)\n",
    "        α_k = secant_minimizer(0.1, 0.8, ϕ)  # get \"reasonably good\" α_k using secant method\n",
    "        x_k1 = x_k - α_k * Df.T\n",
    "        dist = la.norm(x_k1 - x_k)\n",
    "        x_k = x_k1\n",
    "        i += 1\n",
    "    if i < maxiters:\n",
    "        print(f\"Converged in {i} iterations\")\n",
    "        min_val = f(x_k)\n",
    "    else:\n",
    "        print(\"Did not converge\")\n",
    "        min_val = None\n",
    "    return x_k, min_val"
   ]
  },
  {
   "cell_type": "markdown",
   "metadata": {},
   "source": [
    "# Exercise 9.9\n",
    "Apply your code from the previous problem to the Rosenbrock function."
   ]
  },
  {
   "cell_type": "code",
   "execution_count": 18,
   "metadata": {},
   "outputs": [],
   "source": [
    "f = lambda x: 100 * (x[1] - x[0] ** 2) ** 2 + (1 - x[0]) ** 2\n",
    "x_0 = np.array([-2, 2])"
   ]
  },
  {
   "cell_type": "code",
   "execution_count": 19,
   "metadata": {},
   "outputs": [
    {
     "name": "stdout",
     "output_type": "stream",
     "text": [
      "Converged in 94 iterations\n"
     ]
    }
   ],
   "source": [
    "(x, y), f_xy = steepest_descent(f, x_0)"
   ]
  },
  {
   "cell_type": "code",
   "execution_count": 20,
   "metadata": {},
   "outputs": [
    {
     "name": "stdout",
     "output_type": "stream",
     "text": [
      "Minimizer: ( 0.9893702165322639 0.978800430993886 )\n",
      "Minimum: 0.00011327313686658299\n"
     ]
    }
   ],
   "source": [
    "print('Minimizer: (', x, y, ')')\n",
    "print('Minimum:', f_xy)"
   ]
  },
  {
   "cell_type": "code",
   "execution_count": null,
   "metadata": {},
   "outputs": [],
   "source": []
  },
  {
   "cell_type": "code",
   "execution_count": null,
   "metadata": {},
   "outputs": [],
   "source": []
  }
 ],
 "metadata": {
  "kernelspec": {
   "display_name": "Python 3",
   "language": "python",
   "name": "python3"
  },
  "language_info": {
   "codemirror_mode": {
    "name": "ipython",
    "version": 3
   },
   "file_extension": ".py",
   "mimetype": "text/x-python",
   "name": "python",
   "nbconvert_exporter": "python",
   "pygments_lexer": "ipython3",
   "version": "3.6.4"
  }
 },
 "nbformat": 4,
 "nbformat_minor": 2
}
